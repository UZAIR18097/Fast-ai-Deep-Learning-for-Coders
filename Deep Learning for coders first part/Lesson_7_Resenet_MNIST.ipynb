{
  "nbformat": 4,
  "nbformat_minor": 0,
  "metadata": {
    "colab": {
      "name": "Lesson 7: Resenet MNIST.ipynb",
      "provenance": []
    },
    "kernelspec": {
      "name": "python3",
      "display_name": "Python 3"
    },
    "accelerator": "GPU"
  },
  "cells": [
    {
      "cell_type": "markdown",
      "metadata": {
        "id": "akZclXEoqc3N",
        "colab_type": "text"
      },
      "source": [
        "MNIST CNN"
      ]
    },
    {
      "cell_type": "code",
      "metadata": {
        "id": "22v9a8T5qU_d",
        "colab_type": "code",
        "colab": {}
      },
      "source": [
        "%reload_ext autoreload\n",
        "%autoreload 2\n",
        "%matplotlib inline"
      ],
      "execution_count": 2,
      "outputs": []
    },
    {
      "cell_type": "code",
      "metadata": {
        "id": "9OMlbgelqfwd",
        "colab_type": "code",
        "colab": {}
      },
      "source": [
        "from fastai.vision import *"
      ],
      "execution_count": 3,
      "outputs": []
    },
    {
      "cell_type": "markdown",
      "metadata": {
        "id": "ReuZWqrtqkEe",
        "colab_type": "text"
      },
      "source": [
        "DATA"
      ]
    },
    {
      "cell_type": "code",
      "metadata": {
        "id": "KQZOa0-RqinA",
        "colab_type": "code",
        "colab": {
          "base_uri": "https://localhost:8080/",
          "height": 34
        },
        "outputId": "65df41a2-e96e-4453-c329-17c842ce2475"
      },
      "source": [
        "path = untar_data(URLs.MNIST)"
      ],
      "execution_count": 4,
      "outputs": [
        {
          "output_type": "stream",
          "text": [
            "Downloading https://s3.amazonaws.com/fast-ai-imageclas/mnist_png.tgz\n"
          ],
          "name": "stdout"
        },
        {
          "output_type": "display_data",
          "data": {
            "text/html": [
              ""
            ],
            "text/plain": [
              "<IPython.core.display.HTML object>"
            ]
          },
          "metadata": {
            "tags": []
          }
        }
      ]
    },
    {
      "cell_type": "code",
      "metadata": {
        "id": "4USTS9eLqltC",
        "colab_type": "code",
        "colab": {
          "base_uri": "https://localhost:8080/",
          "height": 52
        },
        "outputId": "1ca93754-6b62-4dd0-f605-83ecb4f407c2"
      },
      "source": [
        "path.ls()"
      ],
      "execution_count": 5,
      "outputs": [
        {
          "output_type": "execute_result",
          "data": {
            "text/plain": [
              "[PosixPath('/root/.fastai/data/mnist_png/training'),\n",
              " PosixPath('/root/.fastai/data/mnist_png/testing')]"
            ]
          },
          "metadata": {
            "tags": []
          },
          "execution_count": 5
        }
      ]
    },
    {
      "cell_type": "code",
      "metadata": {
        "id": "sqRiFl7NqmyH",
        "colab_type": "code",
        "colab": {}
      },
      "source": [
        "#as it is black and so convert_mode = L\n",
        "il = ImageList.from_folder(path, convert_mode='L')"
      ],
      "execution_count": 6,
      "outputs": []
    },
    {
      "cell_type": "code",
      "metadata": {
        "id": "U1huDvCkqs1z",
        "colab_type": "code",
        "colab": {
          "base_uri": "https://localhost:8080/",
          "height": 34
        },
        "outputId": "b2da8002-854d-4485-b376-7ab54e072538"
      },
      "source": [
        "il.items[0]"
      ],
      "execution_count": 7,
      "outputs": [
        {
          "output_type": "execute_result",
          "data": {
            "text/plain": [
              "PosixPath('/root/.fastai/data/mnist_png/training/4/34611.png')"
            ]
          },
          "metadata": {
            "tags": []
          },
          "execution_count": 7
        }
      ]
    },
    {
      "cell_type": "code",
      "metadata": {
        "id": "IbLx9ym2quGw",
        "colab_type": "code",
        "colab": {}
      },
      "source": [
        "defaults.cmap='binary'"
      ],
      "execution_count": 8,
      "outputs": []
    },
    {
      "cell_type": "code",
      "metadata": {
        "id": "avZEMIe-q3CU",
        "colab_type": "code",
        "colab": {
          "base_uri": "https://localhost:8080/",
          "height": 70
        },
        "outputId": "ea806ad6-734a-4973-9cc0-d29a846446f8"
      },
      "source": [
        "il"
      ],
      "execution_count": 9,
      "outputs": [
        {
          "output_type": "execute_result",
          "data": {
            "text/plain": [
              "ImageList (70000 items)\n",
              "Image (1, 28, 28),Image (1, 28, 28),Image (1, 28, 28),Image (1, 28, 28),Image (1, 28, 28)\n",
              "Path: /root/.fastai/data/mnist_png"
            ]
          },
          "metadata": {
            "tags": []
          },
          "execution_count": 9
        }
      ]
    },
    {
      "cell_type": "code",
      "metadata": {
        "id": "RYKxNUktq8O-",
        "colab_type": "code",
        "colab": {
          "base_uri": "https://localhost:8080/",
          "height": 194
        },
        "outputId": "4ca304a8-18f3-49b2-aba6-60225676dbab"
      },
      "source": [
        "il[0].show()"
      ],
      "execution_count": 10,
      "outputs": [
        {
          "output_type": "display_data",
          "data": {
            "image/png": "[encoded data removed]",
            "text/plain": [
              "<Figure size 216x216 with 1 Axes>"
            ]
          },
          "metadata": {
            "tags": [],
            "needs_background": "light"
          }
        }
      ]
    },
    {
      "cell_type": "code",
      "metadata": {
        "id": "y2JmWm2qrFY_",
        "colab_type": "code",
        "colab": {}
      },
      "source": [
        "sd = il.split_by_folder(train='training', valid='testing')"
      ],
      "execution_count": 11,
      "outputs": []
    },
    {
      "cell_type": "code",
      "metadata": {
        "id": "pkObadcRrKGx",
        "colab_type": "code",
        "colab": {
          "base_uri": "https://localhost:8080/",
          "height": 212
        },
        "outputId": "50dc3e81-a045-439e-9176-6112c548e617"
      },
      "source": [
        "sd"
      ],
      "execution_count": 12,
      "outputs": [
        {
          "output_type": "execute_result",
          "data": {
            "text/plain": [
              "ItemLists;\n",
              "\n",
              "Train: ImageList (60000 items)\n",
              "Image (1, 28, 28),Image (1, 28, 28),Image (1, 28, 28),Image (1, 28, 28),Image (1, 28, 28)\n",
              "Path: /root/.fastai/data/mnist_png;\n",
              "\n",
              "Valid: ImageList (10000 items)\n",
              "Image (1, 28, 28),Image (1, 28, 28),Image (1, 28, 28),Image (1, 28, 28),Image (1, 28, 28)\n",
              "Path: /root/.fastai/data/mnist_png;\n",
              "\n",
              "Test: None"
            ]
          },
          "metadata": {
            "tags": []
          },
          "execution_count": 12
        }
      ]
    },
    {
      "cell_type": "code",
      "metadata": {
        "id": "3d5Blz1OrMW7",
        "colab_type": "code",
        "colab": {
          "base_uri": "https://localhost:8080/",
          "height": 194
        },
        "outputId": "4c2ebe76-bdb8-4acf-ec24-6d0822133c9e"
      },
      "source": [
        "(path/'training').ls()"
      ],
      "execution_count": 13,
      "outputs": [
        {
          "output_type": "execute_result",
          "data": {
            "text/plain": [
              "[PosixPath('/root/.fastai/data/mnist_png/training/4'),\n",
              " PosixPath('/root/.fastai/data/mnist_png/training/0'),\n",
              " PosixPath('/root/.fastai/data/mnist_png/training/6'),\n",
              " PosixPath('/root/.fastai/data/mnist_png/training/2'),\n",
              " PosixPath('/root/.fastai/data/mnist_png/training/7'),\n",
              " PosixPath('/root/.fastai/data/mnist_png/training/5'),\n",
              " PosixPath('/root/.fastai/data/mnist_png/training/9'),\n",
              " PosixPath('/root/.fastai/data/mnist_png/training/1'),\n",
              " PosixPath('/root/.fastai/data/mnist_png/training/8'),\n",
              " PosixPath('/root/.fastai/data/mnist_png/training/3')]"
            ]
          },
          "metadata": {
            "tags": []
          },
          "execution_count": 13
        }
      ]
    },
    {
      "cell_type": "code",
      "metadata": {
        "id": "136A1jYArWBM",
        "colab_type": "code",
        "colab": {}
      },
      "source": [
        "#label it\n",
        "ll = sd.label_from_folder()"
      ],
      "execution_count": 14,
      "outputs": []
    },
    {
      "cell_type": "code",
      "metadata": {
        "id": "UN2BXJBrrknD",
        "colab_type": "code",
        "colab": {
          "base_uri": "https://localhost:8080/",
          "height": 318
        },
        "outputId": "159d18e2-72b7-4e44-851f-f9773b0b2c3b"
      },
      "source": [
        "ll"
      ],
      "execution_count": 15,
      "outputs": [
        {
          "output_type": "execute_result",
          "data": {
            "text/plain": [
              "LabelLists;\n",
              "\n",
              "Train: LabelList (60000 items)\n",
              "x: ImageList\n",
              "Image (1, 28, 28),Image (1, 28, 28),Image (1, 28, 28),Image (1, 28, 28),Image (1, 28, 28)\n",
              "y: CategoryList\n",
              "4,4,4,4,4\n",
              "Path: /root/.fastai/data/mnist_png;\n",
              "\n",
              "Valid: LabelList (10000 items)\n",
              "x: ImageList\n",
              "Image (1, 28, 28),Image (1, 28, 28),Image (1, 28, 28),Image (1, 28, 28),Image (1, 28, 28)\n",
              "y: CategoryList\n",
              "4,4,4,4,4\n",
              "Path: /root/.fastai/data/mnist_png;\n",
              "\n",
              "Test: None"
            ]
          },
          "metadata": {
            "tags": []
          },
          "execution_count": 15
        }
      ]
    },
    {
      "cell_type": "code",
      "metadata": {
        "id": "OEJvgJ2Ormb_",
        "colab_type": "code",
        "colab": {}
      },
      "source": [
        "x,y = ll.train[0]"
      ],
      "execution_count": 16,
      "outputs": []
    },
    {
      "cell_type": "code",
      "metadata": {
        "id": "nk56VRWVr9fr",
        "colab_type": "code",
        "colab": {
          "base_uri": "https://localhost:8080/",
          "height": 194
        },
        "outputId": "3808b18a-384c-401e-f755-ec4386f8cc61"
      },
      "source": [
        "x.show()"
      ],
      "execution_count": 17,
      "outputs": [
        {
          "output_type": "display_data",
          "data": {
            "image/png": "[encoded data removed]",
            "text/plain": [
              "<Figure size 216x216 with 1 Axes>"
            ]
          },
          "metadata": {
            "tags": [],
            "needs_background": "light"
          }
        }
      ]
    },
    {
      "cell_type": "code",
      "metadata": {
        "id": "EQaMipWmsAis",
        "colab_type": "code",
        "colab": {
          "base_uri": "https://localhost:8080/",
          "height": 34
        },
        "outputId": "1969759e-b275-453d-c5f0-5ff572a2079a"
      },
      "source": [
        "print(y,x.shape)"
      ],
      "execution_count": 18,
      "outputs": [
        {
          "output_type": "stream",
          "text": [
            "4 torch.Size([1, 28, 28])\n"
          ],
          "name": "stdout"
        }
      ]
    },
    {
      "cell_type": "code",
      "metadata": {
        "id": "xZvBTRXNsFpf",
        "colab_type": "code",
        "colab": {}
      },
      "source": [
        "#Adding transforms,no transofrom for validation\n",
        "tfms = ([*rand_pad(padding=3, size=28, mode='zeros')], [])"
      ],
      "execution_count": 19,
      "outputs": []
    },
    {
      "cell_type": "code",
      "metadata": {
        "id": "ZSlTbBEhsOjy",
        "colab_type": "code",
        "colab": {}
      },
      "source": [
        "ll = ll.transform(tfms)"
      ],
      "execution_count": 20,
      "outputs": []
    },
    {
      "cell_type": "code",
      "metadata": {
        "id": "QkBp7ib8sY7V",
        "colab_type": "code",
        "colab": {}
      },
      "source": [
        "bs = 128\n"
      ],
      "execution_count": 21,
      "outputs": []
    },
    {
      "cell_type": "code",
      "metadata": {
        "id": "OK53dSi0sckS",
        "colab_type": "code",
        "colab": {}
      },
      "source": [
        "# not using imagenet_stats because not using pretrained model\n",
        "data = ll.databunch(bs=bs).normalize()\n"
      ],
      "execution_count": 22,
      "outputs": []
    },
    {
      "cell_type": "code",
      "metadata": {
        "id": "xFMcE_qJse8U",
        "colab_type": "code",
        "colab": {
          "base_uri": "https://localhost:8080/",
          "height": 465
        },
        "outputId": "02082e61-b53e-4c26-b99b-2b1f51713219"
      },
      "source": [
        "def _plot(i,j,ax): data.train_ds[0][0].show(ax, cmap='gray')\n",
        "plot_multi(_plot, 3, 3, figsize=(8,8))"
      ],
      "execution_count": 23,
      "outputs": [
        {
          "output_type": "display_data",
          "data": {
            "image/png": "[encoded data removed]",
            "text/plain": [
              "<Figure size 576x576 with 9 Axes>"
            ]
          },
          "metadata": {
            "tags": [],
            "needs_background": "light"
          }
        }
      ]
    },
    {
      "cell_type": "code",
      "metadata": {
        "id": "R1od6rpGsyob",
        "colab_type": "code",
        "colab": {
          "base_uri": "https://localhost:8080/",
          "height": 34
        },
        "outputId": "f20f6dd8-7c16-4a4c-9674-5a0e4e771c06"
      },
      "source": [
        "xb,yb = data.one_batch()\n",
        "xb.shape,yb.shape\n"
      ],
      "execution_count": 24,
      "outputs": [
        {
          "output_type": "execute_result",
          "data": {
            "text/plain": [
              "(torch.Size([128, 1, 28, 28]), torch.Size([128]))"
            ]
          },
          "metadata": {
            "tags": []
          },
          "execution_count": 24
        }
      ]
    },
    {
      "cell_type": "code",
      "metadata": {
        "id": "YFH9HpEYtCu7",
        "colab_type": "code",
        "colab": {
          "base_uri": "https://localhost:8080/",
          "height": 368
        },
        "outputId": "32f8af5a-ec1b-4ab1-e558-ecc665c045d9"
      },
      "source": [
        "data.show_batch(rows=3, figsize=(5,5))"
      ],
      "execution_count": 25,
      "outputs": [
        {
          "output_type": "display_data",
          "data": {
            "image/png": "[encoded data removed]",
            "text/plain": [
              "<Figure size 360x360 with 9 Axes>"
            ]
          },
          "metadata": {
            "tags": [],
            "needs_background": "light"
          }
        }
      ]
    },
    {
      "cell_type": "markdown",
      "metadata": {
        "id": "mDiuijwKtQOW",
        "colab_type": "text"
      },
      "source": [
        "Basic CNN with batchnorm"
      ]
    },
    {
      "cell_type": "code",
      "metadata": {
        "id": "Bbx9LosqtEOD",
        "colab_type": "code",
        "colab": {}
      },
      "source": [
        "#writing function to apply models again and again\n",
        "def conv(ni,nf):\n",
        "   return nn.Conv2d(ni, nf, kernel_size=3, stride=2, padding=1)"
      ],
      "execution_count": 68,
      "outputs": []
    },
    {
      "cell_type": "code",
      "metadata": {
        "id": "v38ntdZGtT6z",
        "colab_type": "code",
        "colab": {}
      },
      "source": [
        "model = nn.Sequential(    \n",
        "    conv(1, 8), # 14           #you always get to pick how many filters so in this case it is 8 and stride is 2 so 28 by 28 image is now 14 by 14 so specifically it is an (8,14,14)\n",
        "    nn.BatchNorm2d(8),\n",
        "    nn.ReLU(),\n",
        "    conv(8, 16), # 7\n",
        "    nn.BatchNorm2d(16),\n",
        "    nn.ReLU(),\n",
        "    conv(16, 32), # 4\n",
        "    nn.BatchNorm2d(32),\n",
        "    nn.ReLU(),\n",
        "    conv(32, 16), # 2\n",
        "    nn.BatchNorm2d(16),\n",
        "    nn.ReLU(),\n",
        "    conv(16, 10), # 1        #we get (10,1,1) which is a vector\n",
        "    nn.BatchNorm2d(10),\n",
        "    Flatten()     # remove (1,1) grid and it is vector of 10\n",
        ")"
      ],
      "execution_count": 69,
      "outputs": []
    },
    {
      "cell_type": "code",
      "metadata": {
        "id": "2T5vktlEt0jk",
        "colab_type": "code",
        "colab": {}
      },
      "source": [
        "learn = Learner(data, model, loss_func = nn.CrossEntropyLoss(), metrics=accuracy)"
      ],
      "execution_count": 70,
      "outputs": []
    },
    {
      "cell_type": "code",
      "metadata": {
        "id": "ja6ckzmsuwEu",
        "colab_type": "code",
        "colab": {
          "base_uri": "https://localhost:8080/",
          "height": 798
        },
        "outputId": "c7238daf-446e-4b4b-a56c-2b95c23ff69f"
      },
      "source": [
        "print(learn.summary())"
      ],
      "execution_count": 71,
      "outputs": [
        {
          "output_type": "stream",
          "text": [
            "Sequential\n",
            "======================================================================\n",
            "Layer (type)         Output Shape         Param #    Trainable \n",
            "======================================================================\n",
            "Conv2d               [8, 14, 14]          80         True      \n",
            "______________________________________________________________________\n",
            "BatchNorm2d          [8, 14, 14]          16         True      \n",
            "______________________________________________________________________\n",
            "ReLU                 [8, 14, 14]          0          False     \n",
            "______________________________________________________________________\n",
            "Conv2d               [16, 7, 7]           1,168      True      \n",
            "______________________________________________________________________\n",
            "BatchNorm2d          [16, 7, 7]           32         True      \n",
            "______________________________________________________________________\n",
            "ReLU                 [16, 7, 7]           0          False     \n",
            "______________________________________________________________________\n",
            "Conv2d               [32, 4, 4]           4,640      True      \n",
            "______________________________________________________________________\n",
            "BatchNorm2d          [32, 4, 4]           64         True      \n",
            "______________________________________________________________________\n",
            "ReLU                 [32, 4, 4]           0          False     \n",
            "______________________________________________________________________\n",
            "Conv2d               [16, 2, 2]           4,624      True      \n",
            "______________________________________________________________________\n",
            "BatchNorm2d          [16, 2, 2]           32         True      \n",
            "______________________________________________________________________\n",
            "ReLU                 [16, 2, 2]           0          False     \n",
            "______________________________________________________________________\n",
            "Conv2d               [10, 1, 1]           1,450      True      \n",
            "______________________________________________________________________\n",
            "BatchNorm2d          [10, 1, 1]           20         True      \n",
            "______________________________________________________________________\n",
            "Flatten              [10]                 0          False     \n",
            "______________________________________________________________________\n",
            "\n",
            "Total params: 12,126\n",
            "Total trainable params: 12,126\n",
            "Total non-trainable params: 0\n",
            "Optimized with 'torch.optim.adam.Adam', betas=(0.9, 0.99)\n",
            "Using true weight decay as discussed in https://www.fast.ai/2018/07/02/adam-weight-decay/ \n",
            "Loss function : CrossEntropyLoss\n",
            "======================================================================\n",
            "Callbacks functions applied \n",
            "\n"
          ],
          "name": "stdout"
        }
      ]
    },
    {
      "cell_type": "code",
      "metadata": {
        "id": "J0LPo8NOuyze",
        "colab_type": "code",
        "colab": {}
      },
      "source": [
        "xb =xb.cuda()"
      ],
      "execution_count": 72,
      "outputs": []
    },
    {
      "cell_type": "code",
      "metadata": {
        "id": "Zb4wTEUivUMn",
        "colab_type": "code",
        "colab": {
          "base_uri": "https://localhost:8080/",
          "height": 34
        },
        "outputId": "63510555-ffb2-430e-e00e-6fae1a7ca60d"
      },
      "source": [
        "#confirming if it is okay\n",
        "model(xb).shape"
      ],
      "execution_count": 73,
      "outputs": [
        {
          "output_type": "execute_result",
          "data": {
            "text/plain": [
              "torch.Size([128, 10])"
            ]
          },
          "metadata": {
            "tags": []
          },
          "execution_count": 73
        }
      ]
    },
    {
      "cell_type": "code",
      "metadata": {
        "id": "9UGUQdQ2vlOa",
        "colab_type": "code",
        "colab": {
          "base_uri": "https://localhost:8080/",
          "height": 112
        },
        "outputId": "a9513af5-3e44-4433-f65c-0d895cb066db"
      },
      "source": [
        "learn.lr_find(end_lr=100)"
      ],
      "execution_count": 74,
      "outputs": [
        {
          "output_type": "display_data",
          "data": {
            "text/html": [
              "\n",
              "    <div>\n",
              "        <style>\n",
              "            /* Turns off some styling */\n",
              "            progress {\n",
              "                /* gets rid of default border in Firefox and Opera. */\n",
              "                border: none;\n",
              "                /* Needs to be in here for Safari polyfill so background images work as expected. */\n",
              "                background-size: auto;\n",
              "            }\n",
              "            .progress-bar-interrupted, .progress-bar-interrupted::-webkit-progress-bar {\n",
              "                background: #F44336;\n",
              "            }\n",
              "        </style>\n",
              "      <progress value='0' class='' max='1' style='width:300px; height:20px; vertical-align: middle;'></progress>\n",
              "      0.00% [0/1 00:00<00:00]\n",
              "    </div>\n",
              "    \n",
              "<table border=\"1\" class=\"dataframe\">\n",
              "  <thead>\n",
              "    <tr style=\"text-align: left;\">\n",
              "      <th>epoch</th>\n",
              "      <th>train_loss</th>\n",
              "      <th>valid_loss</th>\n",
              "      <th>accuracy</th>\n",
              "      <th>time</th>\n",
              "    </tr>\n",
              "  </thead>\n",
              "  <tbody>\n",
              "  </tbody>\n",
              "</table><p>\n",
              "\n",
              "    <div>\n",
              "        <style>\n",
              "            /* Turns off some styling */\n",
              "            progress {\n",
              "                /* gets rid of default border in Firefox and Opera. */\n",
              "                border: none;\n",
              "                /* Needs to be in here for Safari polyfill so background images work as expected. */\n",
              "                background-size: auto;\n",
              "            }\n",
              "            .progress-bar-interrupted, .progress-bar-interrupted::-webkit-progress-bar {\n",
              "                background: #F44336;\n",
              "            }\n",
              "        </style>\n",
              "      <progress value='99' class='' max='468' style='width:300px; height:20px; vertical-align: middle;'></progress>\n",
              "      21.15% [99/468 00:04<00:18 3.1837]\n",
              "    </div>\n",
              "    "
            ],
            "text/plain": [
              "<IPython.core.display.HTML object>"
            ]
          },
          "metadata": {
            "tags": []
          }
        },
        {
          "output_type": "stream",
          "text": [
            "LR Finder is complete, type {learner_name}.recorder.plot() to see the graph.\n"
          ],
          "name": "stdout"
        }
      ]
    },
    {
      "cell_type": "code",
      "metadata": {
        "id": "iFsuTM-wwcjJ",
        "colab_type": "code",
        "colab": {
          "base_uri": "https://localhost:8080/",
          "height": 282
        },
        "outputId": "7359fdd6-2cf0-446d-d6a6-e68a39c07844"
      },
      "source": [
        "learn.recorder.plot()"
      ],
      "execution_count": 76,
      "outputs": [
        {
          "output_type": "display_data",
          "data": {
            "image/png": "[encoded data removed]",
            "text/plain": [
              "<Figure size 432x288 with 1 Axes>"
            ]
          },
          "metadata": {
            "tags": [],
            "needs_background": "light"
          }
        }
      ]
    },
    {
      "cell_type": "code",
      "metadata": {
        "id": "hVz3YjCBwg9b",
        "colab_type": "code",
        "colab": {
          "base_uri": "https://localhost:8080/",
          "height": 137
        },
        "outputId": "1e15c6ec-229f-42bf-feb6-a3832e178466"
      },
      "source": [
        "learn.fit_one_cycle(3, max_lr=0.1)"
      ],
      "execution_count": 77,
      "outputs": [
        {
          "output_type": "display_data",
          "data": {
            "text/html": [
              "<table border=\"1\" class=\"dataframe\">\n",
              "  <thead>\n",
              "    <tr style=\"text-align: left;\">\n",
              "      <th>epoch</th>\n",
              "      <th>train_loss</th>\n",
              "      <th>valid_loss</th>\n",
              "      <th>accuracy</th>\n",
              "      <th>time</th>\n",
              "    </tr>\n",
              "  </thead>\n",
              "  <tbody>\n",
              "    <tr>\n",
              "      <td>0</td>\n",
              "      <td>0.224803</td>\n",
              "      <td>0.866286</td>\n",
              "      <td>0.777600</td>\n",
              "      <td>00:26</td>\n",
              "    </tr>\n",
              "    <tr>\n",
              "      <td>1</td>\n",
              "      <td>0.129152</td>\n",
              "      <td>0.085718</td>\n",
              "      <td>0.972900</td>\n",
              "      <td>00:25</td>\n",
              "    </tr>\n",
              "    <tr>\n",
              "      <td>2</td>\n",
              "      <td>0.071450</td>\n",
              "      <td>0.039445</td>\n",
              "      <td>0.987600</td>\n",
              "      <td>00:26</td>\n",
              "    </tr>\n",
              "  </tbody>\n",
              "</table>"
            ],
            "text/plain": [
              "<IPython.core.display.HTML object>"
            ]
          },
          "metadata": {
            "tags": []
          }
        }
      ]
    },
    {
      "cell_type": "markdown",
      "metadata": {
        "id": "vA092eYSxUbf",
        "colab_type": "text"
      },
      "source": [
        "Refactor"
      ]
    },
    {
      "cell_type": "code",
      "metadata": {
        "id": "e9oZ7OOIwrak",
        "colab_type": "code",
        "colab": {}
      },
      "source": [
        "#rather than calling conv,batch norm,relu fast ai already has conv_layer that does same thing\n",
        "def conv2(ni,nf): \n",
        "  return conv_layer(ni,nf,stride=2)"
      ],
      "execution_count": 30,
      "outputs": []
    },
    {
      "cell_type": "code",
      "metadata": {
        "id": "y1IDrhxFxNJ6",
        "colab_type": "code",
        "colab": {}
      },
      "source": [
        "model = nn.Sequential(\n",
        "    conv2(1, 8),   # 14\n",
        "    conv2(8, 16),  # 7\n",
        "    conv2(16, 32), # 4\n",
        "    conv2(32, 16), # 2\n",
        "    conv2(16, 10), # 1\n",
        "    Flatten()      # remove (1,1) grid\n",
        ")"
      ],
      "execution_count": 79,
      "outputs": []
    },
    {
      "cell_type": "code",
      "metadata": {
        "id": "bHk8tfpLxzTS",
        "colab_type": "code",
        "colab": {}
      },
      "source": [
        "learn = Learner(data, model, loss_func = nn.CrossEntropyLoss(), metrics=accuracy)"
      ],
      "execution_count": 81,
      "outputs": []
    },
    {
      "cell_type": "code",
      "metadata": {
        "id": "qRRs9CBcxRsx",
        "colab_type": "code",
        "colab": {
          "base_uri": "https://localhost:8080/",
          "height": 137
        },
        "outputId": "c4ba0f39-9d05-4ac8-aa16-f03f5f8f0398"
      },
      "source": [
        "learn.fit_one_cycle(3, max_lr=0.1)"
      ],
      "execution_count": 82,
      "outputs": [
        {
          "output_type": "display_data",
          "data": {
            "text/html": [
              "<table border=\"1\" class=\"dataframe\">\n",
              "  <thead>\n",
              "    <tr style=\"text-align: left;\">\n",
              "      <th>epoch</th>\n",
              "      <th>train_loss</th>\n",
              "      <th>valid_loss</th>\n",
              "      <th>accuracy</th>\n",
              "      <th>time</th>\n",
              "    </tr>\n",
              "  </thead>\n",
              "  <tbody>\n",
              "    <tr>\n",
              "      <td>0</td>\n",
              "      <td>0.237002</td>\n",
              "      <td>0.201624</td>\n",
              "      <td>0.937900</td>\n",
              "      <td>00:25</td>\n",
              "    </tr>\n",
              "    <tr>\n",
              "      <td>1</td>\n",
              "      <td>0.138175</td>\n",
              "      <td>0.071250</td>\n",
              "      <td>0.977300</td>\n",
              "      <td>00:25</td>\n",
              "    </tr>\n",
              "    <tr>\n",
              "      <td>2</td>\n",
              "      <td>0.069214</td>\n",
              "      <td>0.037876</td>\n",
              "      <td>0.987700</td>\n",
              "      <td>00:25</td>\n",
              "    </tr>\n",
              "  </tbody>\n",
              "</table>"
            ],
            "text/plain": [
              "<IPython.core.display.HTML object>"
            ]
          },
          "metadata": {
            "tags": []
          }
        }
      ]
    },
    {
      "cell_type": "markdown",
      "metadata": {
        "id": "0CHHE97DDpeM",
        "colab_type": "text"
      },
      "source": [
        "Resnet-ish"
      ]
    },
    {
      "cell_type": "code",
      "metadata": {
        "id": "QnphPRDfDvyP",
        "colab_type": "code",
        "colab": {}
      },
      "source": [
        "class ResBlock(nn.Module):\n",
        "    def __init__(self, nf):\n",
        "        super().__init__()\n",
        "        self.conv1 = conv_layer(nf,nf)\n",
        "        self.conv2 = conv_layer(nf,nf)\n",
        "        \n",
        "    def forward(self, x): return x + self.conv2(self.conv1(x))"
      ],
      "execution_count": 27,
      "outputs": []
    },
    {
      "cell_type": "code",
      "metadata": {
        "id": "m-p2AadbEPat",
        "colab_type": "code",
        "colab": {
          "base_uri": "https://localhost:8080/",
          "height": 105
        },
        "outputId": "70b8a283-89ea-4d93-b95b-ee773135499f"
      },
      "source": [
        "help(res_block)"
      ],
      "execution_count": 28,
      "outputs": [
        {
          "output_type": "stream",
          "text": [
            "Help on function res_block in module fastai.layers:\n",
            "\n",
            "res_block(nf, dense:bool=False, norm_type:Union[fastai.layers.NormType, NoneType]=<NormType.Batch: 1>, bottle:bool=False, **conv_kwargs)\n",
            "    Resnet block of `nf` features. `conv_kwargs` are passed to `conv_layer`.\n",
            "\n"
          ],
          "name": "stdout"
        }
      ]
    },
    {
      "cell_type": "code",
      "metadata": {
        "id": "Eknxgx2SERje",
        "colab_type": "code",
        "colab": {}
      },
      "source": [
        "#applying resblock\n",
        "model = nn.Sequential(\n",
        "    conv2(1, 8),\n",
        "    res_block(8),\n",
        "    conv2(8, 16),\n",
        "    res_block(16),\n",
        "    conv2(16, 32),\n",
        "    res_block(32),\n",
        "    conv2(32, 16),\n",
        "    res_block(16),\n",
        "    conv2(16, 10),\n",
        "    Flatten()\n",
        ")"
      ],
      "execution_count": 31,
      "outputs": []
    },
    {
      "cell_type": "code",
      "metadata": {
        "id": "oTTRz-8qEWkX",
        "colab_type": "code",
        "colab": {}
      },
      "source": [
        "#since we are using so many conv2 and res_block so make it applicable easy everytime we can define as one\n",
        "def conv_and_res(ni,nf): \n",
        "  return nn.Sequential(conv2(ni, nf), res_block(nf))"
      ],
      "execution_count": 32,
      "outputs": []
    },
    {
      "cell_type": "code",
      "metadata": {
        "id": "508hvBZ0FFuc",
        "colab_type": "code",
        "colab": {}
      },
      "source": [
        "model = nn.Sequential(\n",
        "    conv_and_res(1, 8),\n",
        "    conv_and_res(8, 16),\n",
        "    conv_and_res(16, 32),\n",
        "    conv_and_res(32, 16),\n",
        "    conv2(16, 10),\n",
        "    Flatten()\n",
        ")"
      ],
      "execution_count": 33,
      "outputs": []
    },
    {
      "cell_type": "code",
      "metadata": {
        "id": "UyAoTr0ZFOQl",
        "colab_type": "code",
        "colab": {}
      },
      "source": [
        "learn = Learner(data, model, loss_func = nn.CrossEntropyLoss(), metrics=accuracy)"
      ],
      "execution_count": 34,
      "outputs": []
    },
    {
      "cell_type": "code",
      "metadata": {
        "id": "mW_O6uGFFRYx",
        "colab_type": "code",
        "colab": {
          "base_uri": "https://localhost:8080/",
          "height": 373
        },
        "outputId": "d6c46a7d-96b0-4958-f4d1-4354731fa917"
      },
      "source": [
        "learn.lr_find(end_lr=100)\n",
        "learn.recorder.plot()"
      ],
      "execution_count": 35,
      "outputs": [
        {
          "output_type": "display_data",
          "data": {
            "text/html": [
              "\n",
              "    <div>\n",
              "        <style>\n",
              "            /* Turns off some styling */\n",
              "            progress {\n",
              "                /* gets rid of default border in Firefox and Opera. */\n",
              "                border: none;\n",
              "                /* Needs to be in here for Safari polyfill so background images work as expected. */\n",
              "                background-size: auto;\n",
              "            }\n",
              "            .progress-bar-interrupted, .progress-bar-interrupted::-webkit-progress-bar {\n",
              "                background: #F44336;\n",
              "            }\n",
              "        </style>\n",
              "      <progress value='0' class='' max='1' style='width:300px; height:20px; vertical-align: middle;'></progress>\n",
              "      0.00% [0/1 00:00<00:00]\n",
              "    </div>\n",
              "    \n",
              "<table border=\"1\" class=\"dataframe\">\n",
              "  <thead>\n",
              "    <tr style=\"text-align: left;\">\n",
              "      <th>epoch</th>\n",
              "      <th>train_loss</th>\n",
              "      <th>valid_loss</th>\n",
              "      <th>accuracy</th>\n",
              "      <th>time</th>\n",
              "    </tr>\n",
              "  </thead>\n",
              "  <tbody>\n",
              "  </tbody>\n",
              "</table><p>\n",
              "\n",
              "    <div>\n",
              "        <style>\n",
              "            /* Turns off some styling */\n",
              "            progress {\n",
              "                /* gets rid of default border in Firefox and Opera. */\n",
              "                border: none;\n",
              "                /* Needs to be in here for Safari polyfill so background images work as expected. */\n",
              "                background-size: auto;\n",
              "            }\n",
              "            .progress-bar-interrupted, .progress-bar-interrupted::-webkit-progress-bar {\n",
              "                background: #F44336;\n",
              "            }\n",
              "        </style>\n",
              "      <progress value='99' class='' max='468' style='width:300px; height:20px; vertical-align: middle;'></progress>\n",
              "      21.15% [99/468 00:05<00:22 3.4140]\n",
              "    </div>\n",
              "    "
            ],
            "text/plain": [
              "<IPython.core.display.HTML object>"
            ]
          },
          "metadata": {
            "tags": []
          }
        },
        {
          "output_type": "stream",
          "text": [
            "LR Finder is complete, type {learner_name}.recorder.plot() to see the graph.\n"
          ],
          "name": "stdout"
        },
        {
          "output_type": "display_data",
          "data": {
            "image/png": "[encoded data removed]",
            "text/plain": [
              "<Figure size 432x288 with 1 Axes>"
            ]
          },
          "metadata": {
            "tags": [],
            "needs_background": "light"
          }
        }
      ]
    },
    {
      "cell_type": "code",
      "metadata": {
        "id": "1A2F8Sp3FUFR",
        "colab_type": "code",
        "colab": {
          "base_uri": "https://localhost:8080/",
          "height": 407
        },
        "outputId": "0431b15c-e3c4-4d30-b7f4-a5f8915a83d3"
      },
      "source": [
        "learn.fit_one_cycle(12, max_lr=0.05)"
      ],
      "execution_count": 37,
      "outputs": [
        {
          "output_type": "display_data",
          "data": {
            "text/html": [
              "<table border=\"1\" class=\"dataframe\">\n",
              "  <thead>\n",
              "    <tr style=\"text-align: left;\">\n",
              "      <th>epoch</th>\n",
              "      <th>train_loss</th>\n",
              "      <th>valid_loss</th>\n",
              "      <th>accuracy</th>\n",
              "      <th>time</th>\n",
              "    </tr>\n",
              "  </thead>\n",
              "  <tbody>\n",
              "    <tr>\n",
              "      <td>0</td>\n",
              "      <td>0.051259</td>\n",
              "      <td>0.037826</td>\n",
              "      <td>0.988500</td>\n",
              "      <td>00:30</td>\n",
              "    </tr>\n",
              "    <tr>\n",
              "      <td>1</td>\n",
              "      <td>0.072524</td>\n",
              "      <td>0.074968</td>\n",
              "      <td>0.977300</td>\n",
              "      <td>00:30</td>\n",
              "    </tr>\n",
              "    <tr>\n",
              "      <td>2</td>\n",
              "      <td>0.090936</td>\n",
              "      <td>0.096969</td>\n",
              "      <td>0.971600</td>\n",
              "      <td>00:29</td>\n",
              "    </tr>\n",
              "    <tr>\n",
              "      <td>3</td>\n",
              "      <td>0.080604</td>\n",
              "      <td>0.100025</td>\n",
              "      <td>0.968500</td>\n",
              "      <td>00:30</td>\n",
              "    </tr>\n",
              "    <tr>\n",
              "      <td>4</td>\n",
              "      <td>0.058795</td>\n",
              "      <td>0.135617</td>\n",
              "      <td>0.959300</td>\n",
              "      <td>00:30</td>\n",
              "    </tr>\n",
              "    <tr>\n",
              "      <td>5</td>\n",
              "      <td>0.058482</td>\n",
              "      <td>0.051358</td>\n",
              "      <td>0.984600</td>\n",
              "      <td>00:30</td>\n",
              "    </tr>\n",
              "    <tr>\n",
              "      <td>6</td>\n",
              "      <td>0.046807</td>\n",
              "      <td>0.058837</td>\n",
              "      <td>0.981600</td>\n",
              "      <td>00:30</td>\n",
              "    </tr>\n",
              "    <tr>\n",
              "      <td>7</td>\n",
              "      <td>0.042921</td>\n",
              "      <td>0.050219</td>\n",
              "      <td>0.985100</td>\n",
              "      <td>00:30</td>\n",
              "    </tr>\n",
              "    <tr>\n",
              "      <td>8</td>\n",
              "      <td>0.032339</td>\n",
              "      <td>0.026560</td>\n",
              "      <td>0.991900</td>\n",
              "      <td>00:30</td>\n",
              "    </tr>\n",
              "    <tr>\n",
              "      <td>9</td>\n",
              "      <td>0.025346</td>\n",
              "      <td>0.019835</td>\n",
              "      <td>0.993900</td>\n",
              "      <td>00:30</td>\n",
              "    </tr>\n",
              "    <tr>\n",
              "      <td>10</td>\n",
              "      <td>0.020184</td>\n",
              "      <td>0.015732</td>\n",
              "      <td>0.994900</td>\n",
              "      <td>00:30</td>\n",
              "    </tr>\n",
              "    <tr>\n",
              "      <td>11</td>\n",
              "      <td>0.016281</td>\n",
              "      <td>0.016985</td>\n",
              "      <td>0.994700</td>\n",
              "      <td>00:30</td>\n",
              "    </tr>\n",
              "  </tbody>\n",
              "</table>"
            ],
            "text/plain": [
              "<IPython.core.display.HTML object>"
            ]
          },
          "metadata": {
            "tags": []
          }
        }
      ]
    },
    {
      "cell_type": "code",
      "metadata": {
        "id": "hK__LBdQFis9",
        "colab_type": "code",
        "colab": {
          "base_uri": "https://localhost:8080/",
          "height": 1000
        },
        "outputId": "cb123957-fa5e-4119-8924-773ce61f036a"
      },
      "source": [
        "print(learn.summary())"
      ],
      "execution_count": 38,
      "outputs": [
        {
          "output_type": "stream",
          "text": [
            "Sequential\n",
            "======================================================================\n",
            "Layer (type)         Output Shape         Param #    Trainable \n",
            "======================================================================\n",
            "Conv2d               [8, 14, 14]          72         True      \n",
            "______________________________________________________________________\n",
            "ReLU                 [8, 14, 14]          0          False     \n",
            "______________________________________________________________________\n",
            "BatchNorm2d          [8, 14, 14]          16         True      \n",
            "______________________________________________________________________\n",
            "Conv2d               [8, 14, 14]          576        True      \n",
            "______________________________________________________________________\n",
            "ReLU                 [8, 14, 14]          0          False     \n",
            "______________________________________________________________________\n",
            "BatchNorm2d          [8, 14, 14]          16         True      \n",
            "______________________________________________________________________\n",
            "Conv2d               [8, 14, 14]          576        True      \n",
            "______________________________________________________________________\n",
            "ReLU                 [8, 14, 14]          0          False     \n",
            "______________________________________________________________________\n",
            "BatchNorm2d          [8, 14, 14]          16         True      \n",
            "______________________________________________________________________\n",
            "MergeLayer           [8, 14, 14]          0          False     \n",
            "______________________________________________________________________\n",
            "Conv2d               [16, 7, 7]           1,152      True      \n",
            "______________________________________________________________________\n",
            "ReLU                 [16, 7, 7]           0          False     \n",
            "______________________________________________________________________\n",
            "BatchNorm2d          [16, 7, 7]           32         True      \n",
            "______________________________________________________________________\n",
            "Conv2d               [16, 7, 7]           2,304      True      \n",
            "______________________________________________________________________\n",
            "ReLU                 [16, 7, 7]           0          False     \n",
            "______________________________________________________________________\n",
            "BatchNorm2d          [16, 7, 7]           32         True      \n",
            "______________________________________________________________________\n",
            "Conv2d               [16, 7, 7]           2,304      True      \n",
            "______________________________________________________________________\n",
            "ReLU                 [16, 7, 7]           0          False     \n",
            "______________________________________________________________________\n",
            "BatchNorm2d          [16, 7, 7]           32         True      \n",
            "______________________________________________________________________\n",
            "MergeLayer           [16, 7, 7]           0          False     \n",
            "______________________________________________________________________\n",
            "Conv2d               [32, 4, 4]           4,608      True      \n",
            "______________________________________________________________________\n",
            "ReLU                 [32, 4, 4]           0          False     \n",
            "______________________________________________________________________\n",
            "BatchNorm2d          [32, 4, 4]           64         True      \n",
            "______________________________________________________________________\n",
            "Conv2d               [32, 4, 4]           9,216      True      \n",
            "______________________________________________________________________\n",
            "ReLU                 [32, 4, 4]           0          False     \n",
            "______________________________________________________________________\n",
            "BatchNorm2d          [32, 4, 4]           64         True      \n",
            "______________________________________________________________________\n",
            "Conv2d               [32, 4, 4]           9,216      True      \n",
            "______________________________________________________________________\n",
            "ReLU                 [32, 4, 4]           0          False     \n",
            "______________________________________________________________________\n",
            "BatchNorm2d          [32, 4, 4]           64         True      \n",
            "______________________________________________________________________\n",
            "MergeLayer           [32, 4, 4]           0          False     \n",
            "______________________________________________________________________\n",
            "Conv2d               [16, 2, 2]           4,608      True      \n",
            "______________________________________________________________________\n",
            "ReLU                 [16, 2, 2]           0          False     \n",
            "______________________________________________________________________\n",
            "BatchNorm2d          [16, 2, 2]           32         True      \n",
            "______________________________________________________________________\n",
            "Conv2d               [16, 2, 2]           2,304      True      \n",
            "______________________________________________________________________\n",
            "ReLU                 [16, 2, 2]           0          False     \n",
            "______________________________________________________________________\n",
            "BatchNorm2d          [16, 2, 2]           32         True      \n",
            "______________________________________________________________________\n",
            "Conv2d               [16, 2, 2]           2,304      True      \n",
            "______________________________________________________________________\n",
            "ReLU                 [16, 2, 2]           0          False     \n",
            "______________________________________________________________________\n",
            "BatchNorm2d          [16, 2, 2]           32         True      \n",
            "______________________________________________________________________\n",
            "MergeLayer           [16, 2, 2]           0          False     \n",
            "______________________________________________________________________\n",
            "Conv2d               [10, 1, 1]           1,440      True      \n",
            "______________________________________________________________________\n",
            "ReLU                 [10, 1, 1]           0          False     \n",
            "______________________________________________________________________\n",
            "BatchNorm2d          [10, 1, 1]           20         True      \n",
            "______________________________________________________________________\n",
            "Flatten              [10]                 0          False     \n",
            "______________________________________________________________________\n",
            "\n",
            "Total params: 41,132\n",
            "Total trainable params: 41,132\n",
            "Total non-trainable params: 0\n",
            "Optimized with 'torch.optim.adam.Adam', betas=(0.9, 0.99)\n",
            "Using true weight decay as discussed in https://www.fast.ai/2018/07/02/adam-weight-decay/ \n",
            "Loss function : CrossEntropyLoss\n",
            "======================================================================\n",
            "Callbacks functions applied \n",
            "\n"
          ],
          "name": "stdout"
        }
      ]
    }
  ]
}