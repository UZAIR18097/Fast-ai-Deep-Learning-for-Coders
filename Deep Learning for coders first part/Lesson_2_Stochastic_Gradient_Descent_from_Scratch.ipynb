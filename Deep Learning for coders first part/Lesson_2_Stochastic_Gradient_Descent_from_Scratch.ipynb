{
  "nbformat": 4,
  "nbformat_minor": 0,
  "metadata": {
    "colab": {
      "name": "Stochastic Gradient Descent from Scratch (Lesson 2).ipynb",
      "provenance": [],
      "collapsed_sections": []
    },
    "kernelspec": {
      "name": "python3",
      "display_name": "Python 3"
    },
    "accelerator": "GPU"
  },
  "cells": [
    {
      "cell_type": "markdown",
      "metadata": {
        "id": "lxD8HBmNflfc",
        "colab_type": "text"
      },
      "source": [
        "Linear Regression Problem"
      ]
    },
    {
      "cell_type": "code",
      "metadata": {
        "id": "aG4cLrfZ39PU",
        "colab_type": "code",
        "colab": {}
      },
      "source": [
        "from fastai.vision import *\n",
        "from fastai import *\n",
        "from fastai.basics import *\n",
        "import matplotlib.animation as animation\n",
        "from matplotlib import rc\n",
        "rc('animation', html='jshtml')\n",
        "%matplotlib inline"
      ],
      "execution_count": 222,
      "outputs": []
    },
    {
      "cell_type": "code",
      "metadata": {
        "id": "0JRXJinkQSoX",
        "colab_type": "code",
        "colab": {}
      },
      "source": [
        "n= 100"
      ],
      "execution_count": 223,
      "outputs": []
    },
    {
      "cell_type": "code",
      "metadata": {
        "id": "1AV7qPb9a40y",
        "colab_type": "code",
        "colab": {
          "base_uri": "https://localhost:8080/",
          "height": 105
        },
        "outputId": "454d9f0b-9f45-4468-ec22-5f989493dde0"
      },
      "source": [
        "x = torch.ones(n,2)\n",
        "x[:,0].uniform_(-1,1)\n",
        "x[0:5]"
      ],
      "execution_count": 224,
      "outputs": [
        {
          "output_type": "execute_result",
          "data": {
            "text/plain": [
              "tensor([[-0.5689,  1.0000],\n",
              "        [-0.3950,  1.0000],\n",
              "        [-0.4429,  1.0000],\n",
              "        [ 0.8992,  1.0000],\n",
              "        [-0.5906,  1.0000]])"
            ]
          },
          "metadata": {
            "tags": []
          },
          "execution_count": 224
        }
      ]
    },
    {
      "cell_type": "code",
      "metadata": {
        "id": "IGLqFyYkbZvT",
        "colab_type": "code",
        "colab": {
          "base_uri": "https://localhost:8080/",
          "height": 34
        },
        "outputId": "cc5cdb12-5003-4485-a70b-5753c9b71186"
      },
      "source": [
        "a = tensor(3.,2.)\n",
        "a"
      ],
      "execution_count": 225,
      "outputs": [
        {
          "output_type": "execute_result",
          "data": {
            "text/plain": [
              "tensor([3., 2.])"
            ]
          },
          "metadata": {
            "tags": []
          },
          "execution_count": 225
        }
      ]
    },
    {
      "cell_type": "code",
      "metadata": {
        "id": "qTYQcQ0cb1WT",
        "colab_type": "code",
        "colab": {}
      },
      "source": [
        "y = x@a +torch.rand(n) #doing matrix multipication and adding some random noise"
      ],
      "execution_count": 226,
      "outputs": []
    },
    {
      "cell_type": "code",
      "metadata": {
        "id": "o1mIg8n4c_Ic",
        "colab_type": "code",
        "colab": {
          "base_uri": "https://localhost:8080/",
          "height": 282
        },
        "outputId": "6241c75c-97de-4cbb-df77-885e80cd4f52"
      },
      "source": [
        "plt.scatter(x[:,0],y)"
      ],
      "execution_count": 227,
      "outputs": [
        {
          "output_type": "execute_result",
          "data": {
            "text/plain": [
              "<matplotlib.collections.PathCollection at 0x7fe8d891c240>"
            ]
          },
          "metadata": {
            "tags": []
          },
          "execution_count": 227
        },
        {
          "output_type": "display_data",
          "data": {
            "image/png": "[encoded data removed]",
            "text/plain": [
              "<Figure size 432x288 with 1 Axes>"
            ]
          },
          "metadata": {
            "tags": [],
            "needs_background": "light"
          }
        }
      ]
    },
    {
      "cell_type": "markdown",
      "metadata": {
        "id": "qfBowGgWf9lW",
        "colab_type": "text"
      },
      "source": [
        "You want to find co-eficients/parameters(weights) \"a\" such that you minimize the error between points and line x@a. Note that here \"a\" is unknown.For regression problem most commonly used error function is **Mean Squared Error.**  "
      ]
    },
    {
      "cell_type": "code",
      "metadata": {
        "id": "ljoxzaU3dL8k",
        "colab_type": "code",
        "colab": {}
      },
      "source": [
        "def mse(y_hat,y):\n",
        "  return ((y_hat - y)**2).mean()"
      ],
      "execution_count": 228,
      "outputs": []
    },
    {
      "cell_type": "markdown",
      "metadata": {
        "id": "rlt2cwkOiAKt",
        "colab_type": "text"
      },
      "source": [
        "Suppose we believe that a = (-1.0,1.0) then we can compute y_hat which is our prediction and compute the error"
      ]
    },
    {
      "cell_type": "code",
      "metadata": {
        "id": "0vWbjBMKd4WB",
        "colab_type": "code",
        "colab": {
          "base_uri": "https://localhost:8080/",
          "height": 34
        },
        "outputId": "6c3b18f0-ea7b-456d-855c-95383b51da17"
      },
      "source": [
        "a = tensor(-1.,1)\n",
        "a"
      ],
      "execution_count": 229,
      "outputs": [
        {
          "output_type": "execute_result",
          "data": {
            "text/plain": [
              "tensor([-1.,  1.])"
            ]
          },
          "metadata": {
            "tags": []
          },
          "execution_count": 229
        }
      ]
    },
    {
      "cell_type": "code",
      "metadata": {
        "id": "dbLlgL6tiQgL",
        "colab_type": "code",
        "colab": {
          "base_uri": "https://localhost:8080/",
          "height": 34
        },
        "outputId": "a314cbe5-36da-462b-848c-8a4742937f14"
      },
      "source": [
        "#fitting the simple model and getting prediction\n",
        "y_hat = x@a\n",
        "mse(y_hat,y)"
      ],
      "execution_count": 230,
      "outputs": [
        {
          "output_type": "execute_result",
          "data": {
            "text/plain": [
              "tensor(6.5306)"
            ]
          },
          "metadata": {
            "tags": []
          },
          "execution_count": 230
        }
      ]
    },
    {
      "cell_type": "code",
      "metadata": {
        "id": "XfKN4rM1ii2Y",
        "colab_type": "code",
        "colab": {
          "base_uri": "https://localhost:8080/",
          "height": 282
        },
        "outputId": "01133a14-b051-4682-da51-2a9840ec9657"
      },
      "source": [
        "#plotting our predicted result \n",
        "plt.scatter(x[:,0],y)\n",
        "plt.scatter(x[:,0],y_hat) "
      ],
      "execution_count": 231,
      "outputs": [
        {
          "output_type": "execute_result",
          "data": {
            "text/plain": [
              "<matplotlib.collections.PathCollection at 0x7fe8d8b8c978>"
            ]
          },
          "metadata": {
            "tags": []
          },
          "execution_count": 231
        },
        {
          "output_type": "display_data",
          "data": {
            "image/png": "[encoded data removed]",
            "text/plain": [
              "<Figure size 432x288 with 1 Axes>"
            ]
          },
          "metadata": {
            "tags": [],
            "needs_background": "light"
          }
        }
      ]
    },
    {
      "cell_type": "markdown",
      "metadata": {
        "id": "hJQDW3DDmOaA",
        "colab_type": "text"
      },
      "source": [
        "We would like to find values of a that minimize loss for us and here comes the Important Algorithm : **Gradient Descent** which will iteratively move towards our global loss.Thus is done by taking steps in the negative direction of the function gradient."
      ]
    },
    {
      "cell_type": "code",
      "metadata": {
        "id": "63adkZLGknX0",
        "colab_type": "code",
        "colab": {
          "base_uri": "https://localhost:8080/",
          "height": 52
        },
        "outputId": "d149effd-bc7c-4dec-f42b-5efd8ffe1f28"
      },
      "source": [
        "a = nn.Parameter(a)\n",
        "a"
      ],
      "execution_count": 232,
      "outputs": [
        {
          "output_type": "execute_result",
          "data": {
            "text/plain": [
              "Parameter containing:\n",
              "tensor([-1.,  1.], requires_grad=True)"
            ]
          },
          "metadata": {
            "tags": []
          },
          "execution_count": 232
        }
      ]
    },
    {
      "cell_type": "code",
      "metadata": {
        "id": "i4rdtuMTm52l",
        "colab_type": "code",
        "colab": {}
      },
      "source": [
        "def update():\n",
        "  y_hat = x@a\n",
        "  loss = mse(y,y_hat)\n",
        "  if t % 10 == 0: print(loss)\n",
        "  loss.backward()       #to calculate gradient\n",
        "  with torch.no_grad(): \n",
        "    a.sub_(lr * a.grad) #update those coefficients a in place with gradient descent algorithm\n",
        "    a.grad.zero_()\n",
        "    "
      ],
      "execution_count": 233,
      "outputs": []
    },
    {
      "cell_type": "code",
      "metadata": {
        "id": "hfRdAoUEnpym",
        "colab_type": "code",
        "colab": {
          "base_uri": "https://localhost:8080/",
          "height": 194
        },
        "outputId": "d5c33d0f-96f3-4f24-d927-4d0b3ed2df62"
      },
      "source": [
        "lr = 1e-1\n",
        "for t in range(100):\n",
        "  update() "
      ],
      "execution_count": 234,
      "outputs": [
        {
          "output_type": "stream",
          "text": [
            "tensor(6.5306, grad_fn=<MeanBackward0>)\n",
            "tensor(1.5953, grad_fn=<MeanBackward0>)\n",
            "tensor(0.4807, grad_fn=<MeanBackward0>)\n",
            "tensor(0.1843, grad_fn=<MeanBackward0>)\n",
            "tensor(0.1049, grad_fn=<MeanBackward0>)\n",
            "tensor(0.0836, grad_fn=<MeanBackward0>)\n",
            "tensor(0.0779, grad_fn=<MeanBackward0>)\n",
            "tensor(0.0764, grad_fn=<MeanBackward0>)\n",
            "tensor(0.0760, grad_fn=<MeanBackward0>)\n",
            "tensor(0.0759, grad_fn=<MeanBackward0>)\n"
          ],
          "name": "stdout"
        }
      ]
    },
    {
      "cell_type": "code",
      "metadata": {
        "id": "F7qHGUFzuMp4",
        "colab_type": "code",
        "colab": {
          "base_uri": "https://localhost:8080/",
          "height": 264
        },
        "outputId": "54db3889-f09c-4290-a761-e4b82dc8f86f"
      },
      "source": [
        "plt.scatter(x[:,0],y)\n",
        "plt.scatter(x[:,0],x@a.detach());"
      ],
      "execution_count": 235,
      "outputs": [
        {
          "output_type": "display_data",
          "data": {
            "image/png": "[encoded data removed]",
            "text/plain": [
              "<Figure size 432x288 with 1 Axes>"
            ]
          },
          "metadata": {
            "tags": [],
            "needs_background": "light"
          }
        }
      ]
    }
  ]
}