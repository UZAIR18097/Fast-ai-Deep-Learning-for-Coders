{
  "nbformat": 4,
  "nbformat_minor": 0,
  "metadata": {
    "colab": {
      "name": "Lesson 4 : NLP.ipynb",
      "provenance": []
    },
    "kernelspec": {
      "name": "python3",
      "display_name": "Python 3"
    }
  },
  "cells": [
    {
      "cell_type": "markdown",
      "metadata": {
        "id": "3RMFVQj1Uans",
        "colab_type": "text"
      },
      "source": [
        "IMDB"
      ]
    },
    {
      "cell_type": "code",
      "metadata": {
        "id": "AfDR9jeuUxGP",
        "colab_type": "code",
        "colab": {}
      },
      "source": [
        "from fastai import *\n",
        "from fastai.text import *"
      ],
      "execution_count": null,
      "outputs": []
    },
    {
      "cell_type": "code",
      "metadata": {
        "id": "FKRyvlTmVaz3",
        "colab_type": "code",
        "colab": {
          "base_uri": "https://localhost:8080/",
          "height": 52
        },
        "outputId": "ebf364a7-6b6b-4975-feb8-04d3b8af4257"
      },
      "source": [
        "path = untar_data(URLs.IMDB_SAMPLE)\n",
        "path.ls()"
      ],
      "execution_count": null,
      "outputs": [
        {
          "output_type": "stream",
          "text": [
            "Downloading http://files.fast.ai/data/examples/imdb_sample.tgz\n"
          ],
          "name": "stdout"
        },
        {
          "output_type": "display_data",
          "data": {
            "text/html": [
              ""
            ],
            "text/plain": [
              "<IPython.core.display.HTML object>"
            ]
          },
          "metadata": {
            "tags": []
          }
        },
        {
          "output_type": "execute_result",
          "data": {
            "text/plain": [
              "[PosixPath('/root/.fastai/data/imdb_sample/texts.csv')]"
            ]
          },
          "metadata": {
            "tags": []
          },
          "execution_count": 2
        }
      ]
    },
    {
      "cell_type": "code",
      "metadata": {
        "id": "UKK3OBtktxA9",
        "colab_type": "code",
        "colab": {}
      },
      "source": [
        "df = pd.read_csv(path/\"texts.csv\")"
      ],
      "execution_count": null,
      "outputs": []
    },
    {
      "cell_type": "code",
      "metadata": {
        "id": "GHk4ZVDTt_Mx",
        "colab_type": "code",
        "colab": {
          "base_uri": "https://localhost:8080/",
          "height": 197
        },
        "outputId": "721b5f0c-1273-4256-e87f-3838f0990bb8"
      },
      "source": [
        "df.head()"
      ],
      "execution_count": null,
      "outputs": [
        {
          "output_type": "execute_result",
          "data": {
            "text/html": [
              "<div>\n",
              "<style scoped>\n",
              "    .dataframe tbody tr th:only-of-type {\n",
              "        vertical-align: middle;\n",
              "    }\n",
              "\n",
              "    .dataframe tbody tr th {\n",
              "        vertical-align: top;\n",
              "    }\n",
              "\n",
              "    .dataframe thead th {\n",
              "        text-align: right;\n",
              "    }\n",
              "</style>\n",
              "<table border=\"1\" class=\"dataframe\">\n",
              "  <thead>\n",
              "    <tr style=\"text-align: right;\">\n",
              "      <th></th>\n",
              "      <th>label</th>\n",
              "      <th>text</th>\n",
              "      <th>is_valid</th>\n",
              "    </tr>\n",
              "  </thead>\n",
              "  <tbody>\n",
              "    <tr>\n",
              "      <th>0</th>\n",
              "      <td>negative</td>\n",
              "      <td>Un-bleeping-believable! Meg Ryan doesn't even ...</td>\n",
              "      <td>False</td>\n",
              "    </tr>\n",
              "    <tr>\n",
              "      <th>1</th>\n",
              "      <td>positive</td>\n",
              "      <td>This is a extremely well-made film. The acting...</td>\n",
              "      <td>False</td>\n",
              "    </tr>\n",
              "    <tr>\n",
              "      <th>2</th>\n",
              "      <td>negative</td>\n",
              "      <td>Every once in a long while a movie will come a...</td>\n",
              "      <td>False</td>\n",
              "    </tr>\n",
              "    <tr>\n",
              "      <th>3</th>\n",
              "      <td>positive</td>\n",
              "      <td>Name just says it all. I watched this movie wi...</td>\n",
              "      <td>False</td>\n",
              "    </tr>\n",
              "    <tr>\n",
              "      <th>4</th>\n",
              "      <td>negative</td>\n",
              "      <td>This movie succeeds at being one of the most u...</td>\n",
              "      <td>False</td>\n",
              "    </tr>\n",
              "  </tbody>\n",
              "</table>\n",
              "</div>"
            ],
            "text/plain": [
              "      label                                               text  is_valid\n",
              "0  negative  Un-bleeping-believable! Meg Ryan doesn't even ...     False\n",
              "1  positive  This is a extremely well-made film. The acting...     False\n",
              "2  negative  Every once in a long while a movie will come a...     False\n",
              "3  positive  Name just says it all. I watched this movie wi...     False\n",
              "4  negative  This movie succeeds at being one of the most u...     False"
            ]
          },
          "metadata": {
            "tags": []
          },
          "execution_count": 4
        }
      ]
    },
    {
      "cell_type": "code",
      "metadata": {
        "id": "-23rBakXuEg-",
        "colab_type": "code",
        "colab": {
          "base_uri": "https://localhost:8080/",
          "height": 34
        },
        "outputId": "c8ebd978-5cb3-475d-f238-8f175df30924"
      },
      "source": [
        "len(df)"
      ],
      "execution_count": null,
      "outputs": [
        {
          "output_type": "execute_result",
          "data": {
            "text/plain": [
              "1000"
            ]
          },
          "metadata": {
            "tags": []
          },
          "execution_count": 5
        }
      ]
    },
    {
      "cell_type": "code",
      "metadata": {
        "id": "fABKg6fQuLp5",
        "colab_type": "code",
        "colab": {
          "base_uri": "https://localhost:8080/",
          "height": 71
        },
        "outputId": "91b96b84-32d0-44c7-e780-2e575e70eeea"
      },
      "source": [
        "df['text'][0]"
      ],
      "execution_count": null,
      "outputs": [
        {
          "output_type": "execute_result",
          "data": {
            "application/vnd.google.colaboratory.intrinsic+json": {
              "type": "string"
            },
            "text/plain": [
              "\"Un-bleeping-believable! Meg Ryan doesn't even look her usual pert lovable self in this, which normally makes me forgive her shallow ticky acting schtick. Hard to believe she was the producer on this dog. Plus Kevin Kline: what kind of suicide trip has his career been on? Whoosh... Banzai!!! Finally this was directed by the guy who did Big Chill? Must be a replay of Jonestown - hollywood style. Wooofff!\""
            ]
          },
          "metadata": {
            "tags": []
          },
          "execution_count": 6
        }
      ]
    },
    {
      "cell_type": "markdown",
      "metadata": {
        "id": "5eBDrSLfJ0sz",
        "colab_type": "text"
      },
      "source": [
        "Tokenizataion"
      ]
    },
    {
      "cell_type": "code",
      "metadata": {
        "id": "Wf5ZY-xMuSIo",
        "colab_type": "code",
        "colab": {
          "base_uri": "https://localhost:8080/",
          "height": 16
        },
        "outputId": "d429f74b-3e21-44e7-881b-c9124f9d4d3b"
      },
      "source": [
        "data_lm = TextDataBunch.from_csv(path, 'texts.csv')"
      ],
      "execution_count": null,
      "outputs": [
        {
          "output_type": "display_data",
          "data": {
            "text/html": [
              ""
            ],
            "text/plain": [
              "<IPython.core.display.HTML object>"
            ]
          },
          "metadata": {
            "tags": []
          }
        },
        {
          "output_type": "display_data",
          "data": {
            "text/html": [
              ""
            ],
            "text/plain": [
              "<IPython.core.display.HTML object>"
            ]
          },
          "metadata": {
            "tags": []
          }
        }
      ]
    },
    {
      "cell_type": "code",
      "metadata": {
        "id": "_FmZ7dSyuiLZ",
        "colab_type": "code",
        "colab": {}
      },
      "source": [
        "data_lm.save()"
      ],
      "execution_count": null,
      "outputs": []
    },
    {
      "cell_type": "code",
      "metadata": {
        "id": "2JOiQQIUErEK",
        "colab_type": "code",
        "colab": {
          "base_uri": "https://localhost:8080/",
          "height": 281
        },
        "outputId": "769f1650-c67b-4b67-9552-76980e87fc5c"
      },
      "source": [
        "data = load_data(path)\n",
        "data.show_batch()"
      ],
      "execution_count": null,
      "outputs": [
        {
          "output_type": "display_data",
          "data": {
            "text/html": [
              "<table border=\"1\" class=\"dataframe\">\n",
              "  <thead>\n",
              "    <tr style=\"text-align: right;\">\n",
              "      <th>text</th>\n",
              "      <th>target</th>\n",
              "    </tr>\n",
              "  </thead>\n",
              "  <tbody>\n",
              "    <tr>\n",
              "      <td>xxbos xxmaj raising xxmaj victor xxmaj vargas : a xxmaj review \\n \\n  xxmaj you know , xxmaj raising xxmaj victor xxmaj vargas is like sticking your hands into a big , xxunk bowl of xxunk . xxmaj it 's warm and gooey , but you 're not sure if it feels right . xxmaj try as i might , no matter how warm and gooey xxmaj raising xxmaj</td>\n",
              "      <td>negative</td>\n",
              "    </tr>\n",
              "    <tr>\n",
              "      <td>xxbos xxup the xxup shop xxup around xxup the xxup corner is one of the sweetest and most feel - good romantic comedies ever made . xxmaj there 's just no getting around that , and it 's hard to actually put one 's feeling for this film into words . xxmaj it 's not one of those films that tries too hard , nor does it come up with</td>\n",
              "      <td>positive</td>\n",
              "    </tr>\n",
              "    <tr>\n",
              "      <td>xxbos xxmaj now that xxmaj che(2008 ) has finished its relatively short xxmaj australian cinema run ( extremely limited xxunk screen in xxmaj xxunk , after xxunk ) , i can xxunk join both xxunk of \" xxmaj at xxmaj the xxmaj movies \" in taking xxmaj steven xxmaj soderbergh to task . \\n \\n  xxmaj it 's usually satisfying to watch a film director change his style /</td>\n",
              "      <td>negative</td>\n",
              "    </tr>\n",
              "    <tr>\n",
              "      <td>xxbos xxmaj many neglect that this is n't just a classic due to the fact that it 's the first xxup 3d game , or even the first xxunk - up . xxmaj it 's also one of the first stealth games , one of the xxunk definitely the first ) truly claustrophobic games , and just a pretty well - rounded gaming experience in general . xxmaj with graphics</td>\n",
              "      <td>positive</td>\n",
              "    </tr>\n",
              "    <tr>\n",
              "      <td>xxbos \\n \\n  i 'm sure things did n't exactly go the same way in the real life of xxmaj homer xxmaj hickam as they did in the film adaptation of his book , xxmaj rocket xxmaj boys , but the movie \" xxmaj october xxmaj sky \" ( an xxunk of the book 's title ) is good enough to stand alone . i have not read xxmaj</td>\n",
              "      <td>positive</td>\n",
              "    </tr>\n",
              "  </tbody>\n",
              "</table>"
            ],
            "text/plain": [
              "<IPython.core.display.HTML object>"
            ]
          },
          "metadata": {
            "tags": []
          }
        }
      ]
    },
    {
      "cell_type": "markdown",
      "metadata": {
        "id": "ACpvbBcfHVdu",
        "colab_type": "text"
      },
      "source": [
        "Numericalization"
      ]
    },
    {
      "cell_type": "code",
      "metadata": {
        "id": "ScLyFnjvB-jN",
        "colab_type": "code",
        "colab": {
          "base_uri": "https://localhost:8080/",
          "height": 1000
        },
        "outputId": "809a551b-7a62-4ecd-bf74-8467ac17f418"
      },
      "source": [
        "#the big list of tokens is also called as vocabulary\n",
        "data.vocab.itos[:500]"
      ],
      "execution_count": null,
      "outputs": [
        {
          "output_type": "execute_result",
          "data": {
            "text/plain": [
              "['xxunk',\n",
              " 'xxpad',\n",
              " 'xxbos',\n",
              " 'xxeos',\n",
              " 'xxfld',\n",
              " 'xxmaj',\n",
              " 'xxup',\n",
              " 'xxrep',\n",
              " 'xxwrep',\n",
              " 'the',\n",
              " '.',\n",
              " ',',\n",
              " 'and',\n",
              " 'a',\n",
              " 'of',\n",
              " 'to',\n",
              " 'is',\n",
              " 'it',\n",
              " 'in',\n",
              " 'i',\n",
              " 'this',\n",
              " 'that',\n",
              " '\"',\n",
              " \"'s\",\n",
              " '-',\n",
              " 'was',\n",
              " '\\n \\n ',\n",
              " 'for',\n",
              " 'movie',\n",
              " 'as',\n",
              " 'with',\n",
              " 'but',\n",
              " 'film',\n",
              " 'you',\n",
              " ')',\n",
              " '(',\n",
              " 'on',\n",
              " \"n't\",\n",
              " 'are',\n",
              " 'not',\n",
              " 'his',\n",
              " 'he',\n",
              " 'have',\n",
              " 'be',\n",
              " 'one',\n",
              " 'they',\n",
              " 'all',\n",
              " 'at',\n",
              " 'by',\n",
              " '!',\n",
              " 'like',\n",
              " 'an',\n",
              " 'from',\n",
              " 'who',\n",
              " 'so',\n",
              " 'there',\n",
              " 'if',\n",
              " 'or',\n",
              " 'about',\n",
              " 'just',\n",
              " 'out',\n",
              " 'some',\n",
              " 'do',\n",
              " 'what',\n",
              " \"'\",\n",
              " 'her',\n",
              " 'has',\n",
              " '?',\n",
              " 'more',\n",
              " 'good',\n",
              " 'very',\n",
              " 'when',\n",
              " 'no',\n",
              " 'up',\n",
              " 'were',\n",
              " 'would',\n",
              " 'their',\n",
              " 'really',\n",
              " 'only',\n",
              " 'my',\n",
              " 'time',\n",
              " 'she',\n",
              " 'even',\n",
              " 'had',\n",
              " 'can',\n",
              " 'story',\n",
              " 'which',\n",
              " 'see',\n",
              " 'did',\n",
              " ':',\n",
              " 'me',\n",
              " '...',\n",
              " 'we',\n",
              " 'well',\n",
              " 'will',\n",
              " 'does',\n",
              " 'than',\n",
              " 'get',\n",
              " 'into',\n",
              " 'also',\n",
              " 'bad',\n",
              " 'much',\n",
              " 'could',\n",
              " 'other',\n",
              " 'first',\n",
              " 'people',\n",
              " 'because',\n",
              " 'any',\n",
              " 'then',\n",
              " 'great',\n",
              " 'most',\n",
              " 'make',\n",
              " 'how',\n",
              " 'been',\n",
              " 'two',\n",
              " 'them',\n",
              " 'made',\n",
              " 'its',\n",
              " 'him',\n",
              " 'too',\n",
              " 'way',\n",
              " '/',\n",
              " 'movies',\n",
              " 'after',\n",
              " 'watch',\n",
              " 'never',\n",
              " 'acting',\n",
              " 'think',\n",
              " 'films',\n",
              " 'many',\n",
              " 'here',\n",
              " 'character',\n",
              " ';',\n",
              " 'being',\n",
              " 'life',\n",
              " 'love',\n",
              " 'seen',\n",
              " 'plot',\n",
              " 'better',\n",
              " 'little',\n",
              " 'over',\n",
              " 'where',\n",
              " 'characters',\n",
              " 'your',\n",
              " 'should',\n",
              " 'know',\n",
              " 'best',\n",
              " 'man',\n",
              " 'end',\n",
              " 'ever',\n",
              " 'scenes',\n",
              " 'through',\n",
              " 'scene',\n",
              " 'say',\n",
              " 'off',\n",
              " 'go',\n",
              " 'something',\n",
              " 'these',\n",
              " 'still',\n",
              " 'show',\n",
              " 'why',\n",
              " '--',\n",
              " 'while',\n",
              " 'such',\n",
              " '10',\n",
              " 'those',\n",
              " 'though',\n",
              " 'actually',\n",
              " \"'m\",\n",
              " 'real',\n",
              " 'thing',\n",
              " 'before',\n",
              " 'between',\n",
              " 'back',\n",
              " 'old',\n",
              " 'watching',\n",
              " 'years',\n",
              " 'find',\n",
              " 'actors',\n",
              " 'same',\n",
              " \"'ve\",\n",
              " 'funny',\n",
              " 'going',\n",
              " 'now',\n",
              " 'around',\n",
              " '*',\n",
              " 'quite',\n",
              " 'nothing',\n",
              " 'pretty',\n",
              " 'part',\n",
              " 'want',\n",
              " 'look',\n",
              " 'fact',\n",
              " 'few',\n",
              " 'new',\n",
              " '&',\n",
              " 'director',\n",
              " 'original',\n",
              " 'world',\n",
              " 'another',\n",
              " 'makes',\n",
              " 'down',\n",
              " 'point',\n",
              " 'without',\n",
              " 'work',\n",
              " 'seems',\n",
              " 'got',\n",
              " 'action',\n",
              " 'again',\n",
              " \"'re\",\n",
              " 'thought',\n",
              " 'lot',\n",
              " 'enough',\n",
              " 'bit',\n",
              " 'us',\n",
              " 'probably',\n",
              " 'cast',\n",
              " 'must',\n",
              " 'things',\n",
              " 'horror',\n",
              " 'family',\n",
              " 'every',\n",
              " 'both',\n",
              " 'take',\n",
              " 'almost',\n",
              " 'whole',\n",
              " 'ca',\n",
              " 'might',\n",
              " 'kind',\n",
              " 'right',\n",
              " 'least',\n",
              " 'interesting',\n",
              " 'young',\n",
              " \"'ll\",\n",
              " 'however',\n",
              " 'series',\n",
              " 'away',\n",
              " 'times',\n",
              " 'own',\n",
              " 'big',\n",
              " 'saw',\n",
              " 'may',\n",
              " 'come',\n",
              " 'give',\n",
              " 'gets',\n",
              " 'true',\n",
              " 'feel',\n",
              " 'minutes',\n",
              " 'book',\n",
              " 'anything',\n",
              " 'comedy',\n",
              " 'place',\n",
              " 'script',\n",
              " 'each',\n",
              " 'day',\n",
              " 'done',\n",
              " 'role',\n",
              " 'making',\n",
              " 'looks',\n",
              " 'fun',\n",
              " 'long',\n",
              " 'course',\n",
              " 'since',\n",
              " 'hard',\n",
              " 'always',\n",
              " 'actor',\n",
              " 'performance',\n",
              " 'last',\n",
              " 'yet',\n",
              " 'believe',\n",
              " 'someone',\n",
              " 'effects',\n",
              " 'comes',\n",
              " 'simply',\n",
              " 'girl',\n",
              " 'worst',\n",
              " 'american',\n",
              " 'guy',\n",
              " 'tv',\n",
              " 'far',\n",
              " 'read',\n",
              " 'rest',\n",
              " 'set',\n",
              " 'worth',\n",
              " 'black',\n",
              " 'ending',\n",
              " 'looking',\n",
              " 'special',\n",
              " 'audience',\n",
              " 'having',\n",
              " 'am',\n",
              " 'sense',\n",
              " 'shot',\n",
              " 'especially',\n",
              " 'found',\n",
              " 'left',\n",
              " 'once',\n",
              " 'trying',\n",
              " 'our',\n",
              " '4',\n",
              " 'three',\n",
              " 'music',\n",
              " 'although',\n",
              " 'takes',\n",
              " 'together',\n",
              " \"'d\",\n",
              " 'shows',\n",
              " 'women',\n",
              " 'goes',\n",
              " 'john',\n",
              " 'sure',\n",
              " 'watched',\n",
              " 'dvd',\n",
              " 'woman',\n",
              " '2',\n",
              " 'played',\n",
              " 'different',\n",
              " 'let',\n",
              " 'anyone',\n",
              " 'maybe',\n",
              " 'instead',\n",
              " 'screen',\n",
              " 'later',\n",
              " 'wife',\n",
              " '1',\n",
              " 'year',\n",
              " '\\x96',\n",
              " 'men',\n",
              " 'video',\n",
              " 'job',\n",
              " 'low',\n",
              " 'main',\n",
              " 'perhaps',\n",
              " 'start',\n",
              " 'rather',\n",
              " 'couple',\n",
              " 'star',\n",
              " 'high',\n",
              " 'budget',\n",
              " 'everyone',\n",
              " 'mind',\n",
              " 'reason',\n",
              " 'house',\n",
              " 'others',\n",
              " 'next',\n",
              " 'father',\n",
              " 'friends',\n",
              " 'version',\n",
              " 'either',\n",
              " 'said',\n",
              " 'wrong',\n",
              " 'poor',\n",
              " 'getting',\n",
              " 'beautiful',\n",
              " 'name',\n",
              " 'idea',\n",
              " 'try',\n",
              " 'fan',\n",
              " 'less',\n",
              " 'half',\n",
              " 'plays',\n",
              " 'along',\n",
              " 'kids',\n",
              " 'second',\n",
              " 'play',\n",
              " 'hollywood',\n",
              " 'nice',\n",
              " 'terrible',\n",
              " 'tell',\n",
              " 'production',\n",
              " 'often',\n",
              " 'everything',\n",
              " 'performances',\n",
              " 'episode',\n",
              " 'seem',\n",
              " 'case',\n",
              " 'top',\n",
              " 'came',\n",
              " 'completely',\n",
              " 'else',\n",
              " 'excellent',\n",
              " 'kill',\n",
              " 'camera',\n",
              " 'used',\n",
              " 'war',\n",
              " 'put',\n",
              " 'boring',\n",
              " 'town',\n",
              " 'girls',\n",
              " 'need',\n",
              " 'yes',\n",
              " 'moments',\n",
              " 'style',\n",
              " 'supposed',\n",
              " 'turn',\n",
              " 'head',\n",
              " 'keep',\n",
              " '3',\n",
              " 'help',\n",
              " 'money',\n",
              " 'already',\n",
              " 'live',\n",
              " 'himself',\n",
              " 'piece',\n",
              " 'children',\n",
              " '..',\n",
              " 'lost',\n",
              " 'awful',\n",
              " 'full',\n",
              " 'title',\n",
              " 'wanted',\n",
              " 'recommend',\n",
              " 'remember',\n",
              " 'stupid',\n",
              " 'sound',\n",
              " 'home',\n",
              " 'given',\n",
              " 'sex',\n",
              " '5',\n",
              " 'entire',\n",
              " 'dialogue',\n",
              " 'seeing',\n",
              " 'enjoy',\n",
              " 'stars',\n",
              " 'use',\n",
              " 'eyes',\n",
              " 'unfortunately',\n",
              " 'until',\n",
              " 'lines',\n",
              " 'early',\n",
              " 'king',\n",
              " 'during',\n",
              " 'person',\n",
              " 'fans',\n",
              " 'under',\n",
              " 'liked',\n",
              " 'overall',\n",
              " 'night',\n",
              " 'definitely',\n",
              " 'hand',\n",
              " 'white',\n",
              " 'small',\n",
              " 'felt',\n",
              " 'quality',\n",
              " 'truly',\n",
              " 'robert',\n",
              " 'history',\n",
              " 'wo',\n",
              " 'fine',\n",
              " 'picture',\n",
              " 'able',\n",
              " 'drama',\n",
              " 'decent',\n",
              " 'word',\n",
              " 'game',\n",
              " 'classic',\n",
              " 'itself',\n",
              " 'throughout',\n",
              " 'except',\n",
              " 'despite',\n",
              " 'lead',\n",
              " 'gives',\n",
              " 'friend',\n",
              " 'sometimes',\n",
              " 'short',\n",
              " 'school',\n",
              " 'death',\n",
              " 'hope',\n",
              " 'face',\n",
              " 'wonderful',\n",
              " 'late',\n",
              " 'problem',\n",
              " 'written',\n",
              " 'doing',\n",
              " 'five',\n",
              " 'certainly',\n",
              " 'past',\n",
              " 'human',\n",
              " 'waste',\n",
              " 'close',\n",
              " 'genre',\n",
              " 'worse',\n",
              " 'son',\n",
              " 'called',\n",
              " 'english',\n",
              " 'anyway',\n",
              " 'sort',\n",
              " 'parts',\n",
              " 'attempt',\n",
              " 'evil',\n",
              " 'become',\n",
              " 'line',\n",
              " 'oh',\n",
              " 'based',\n",
              " 'says',\n",
              " 'matter',\n",
              " 'blood',\n",
              " 'went',\n",
              " 'lives',\n",
              " 'leave']"
            ]
          },
          "metadata": {
            "tags": []
          },
          "execution_count": 26
        }
      ]
    },
    {
      "cell_type": "code",
      "metadata": {
        "id": "C3JNcsWMHbmX",
        "colab_type": "code",
        "colab": {
          "base_uri": "https://localhost:8080/",
          "height": 392
        },
        "outputId": "1ca61920-6313-4522-d15e-8a872763bb7f"
      },
      "source": [
        "data.train_ds"
      ],
      "execution_count": null,
      "outputs": [
        {
          "output_type": "execute_result",
          "data": {
            "text/plain": [
              "LabelList (799 items)\n",
              "x: TextList\n",
              "xxbos good movie , good music , good background and an acceptable plot . but the main point again as his movies tend to be , the man is the best actor in xxunk and can turn dust into gold . xxunk xxunk . this may be his second best performance after xxunk ( others may disagree ) . although other movies are not far behind . one man that will never ever disappoint you . \n",
              " \n",
              "  good movie although i think xxunk was a luxury this movie could have done without . you can see in his movies , others try very hard to reach his heights and act out of their skins . but this man is really something xxunk . \n",
              " \n",
              "  the movie is cool , the music and direction is excellent plot a bit thin but the screen play and dialog again very good . a must watch .,xxbos xxmaj come on . xxmaj the new twist is nearly ok , but from xxunk the xxmaj elm xxmaj street children xxmaj freddy is just killing people now . xxmaj more of the same : xxmaj special effects with no actual character development or anything . xxmaj simply bad and insulting . xxup scary .. ? xxmaj nope . xxmaj not at all . xxmaj just bad .,xxbos xxmaj like many xxmaj americans , i was first introduced to the works of xxmaj hayao xxmaj miyazaki when i saw \" xxmaj spirited xxmaj away . \" i fell in love with the film and have seen it many times . xxmaj now i am on a search to see every film by xxmaj miyazaki . xxmaj one of his earlier works is \" xxmaj castle in the xxmaj sky . \" xxmaj although it 's still enjoyable , it 's not as good as \" xxmaj spirited xxmaj away \" ( though comparing this or any film to his 2002 masterpiece is perhaps unfair ) . \n",
              " \n",
              "  a young boy named xxmaj pazu ( xxmaj james xxmaj van xxmaj der xxmaj beek ) is working in a mine late one night , when he sees a girl fall slowly from the sky . xxmaj when she wakes up the next morning , she introduces herself as xxmaj sheeta ( xxmaj anna xxmaj paquin ) . xxmaj but xxmaj sheeta has a secret , and before he knows it , xxmaj pazu is pulled into an adventure that will lead him into danger with xxunk , the army and a lost floating city . \n",
              " \n",
              "  xxmaj going into a film by xxmaj hayao xxmaj miyazaki means you can expect one thing : a sense of wonder and magic . xxmaj many filmmakers have tried , but no one can create a sense of magic and awe like xxmaj miyazaki . xxmaj watching a film by xxmaj miyazaki is like experiencing a fantastic dream from your childhood . \n",
              " \n",
              "  xxmaj because the film is animated , dubbing the film does not xxunk much of a problem because it is next to impossible to determine whether or not the lip movements match up to the words . xxmaj it also helps that the translated dialogue is well - written and voiced by talented actors . xxmaj the voice acting is varied . xxmaj james xxmaj van xxmaj der xxmaj beek fares best . xxmaj he brings an irresistible enthusiasm and excitement to the role of xxmaj pazu that is perfect for the character . xxmaj anna xxmaj paquin is nearly as good as xxmaj sheeta . xxmaj she 's frightened by the events going on around her , but she knows what she has to do . xxmaj mark xxmaj xxunk is unrecognizable as the evil xxmaj xxunk . xxmaj he 's dangerous and wants something from xxmaj sheeta , and will do anything to get it . xxmaj the other voices are bad . xxmaj cloris xxmaj leachman is awful as xxmaj xxunk . xxmaj leachman may have won an xxmaj oscar for \" xxmaj the xxmaj last xxmaj picture xxmaj show , \" but she 's annoying as the pirate leader . xxmaj leachman gives the character an obnoxious xxunk that 's nearly always monotonous . xxmaj it 's so bad it nearly ruins the film ! xxmaj jim xxmaj xxunk is an effective voice - over actor , but he 's miscast as the general . \n",
              " \n",
              "  i would definitely recommend seeing \" xxmaj castle in the xxmaj sky . \" i 'll probably end up buying it myself . xxmaj but even though it 's not as good as \" xxmaj spirited xxmaj away , \" it 's still pretty good .,xxbos i remember i saw this cartoon when i was 6 or 7 . xxmaj my grandfather picked up the video of it for free at the mall . i remember that it really sucked . xxmaj the plot had no sense . i hated the fox that became xxmaj casper 's friend . xxmaj he was so stupid ! xxmaj casper xxunk his head off if he could n't find a friend . xxmaj so what ? xxmaj get over it ! xxmaj the only good part and i do n't want to sound mean - spirited was when the fox got shot and died at the end . i laughed my head off in xxunk because this cartoon sucked so much . xxmaj the bad news is the fox xxunk and becomes a ghost . i wish he had stayed dead . i think i even gave the video of this to somebody because i hated it . xxmaj no wonder they were offering it for free at the mall . xxmaj if you have a child do n't let them watch this . xxmaj they will probably agree with me that it sucks .,xxbos xxmaj cheap , mediocre sequel to the successful \" xxmaj the xxmaj mummy 's xxmaj hand \" has presumably dead evil xxmaj professor xxunk xxmaj xxunk his predecessor xxmaj xxunk xxunk xxmaj xxunk the quest of revenge overseas to xxmaj america using mummy xxunk xxmaj xxunk , xxmaj jr who has no reason being in the disguise .. any stunt man could do the same credible work lumbering around and choking xxunk the goal of killing the surviving members of the xxmaj banning family whose patriarch xxunk xxmaj xxunk assistant xxmaj babe xxunk xxmaj xxunk the xxunk corpse of xxmaj princess xxmaj xxunk from her tomb in xxmaj xxunk .. xxmaj andoheb considers this an xxunk act of xxunk and wants the family to suffer for doing such an awful deed towards an ancient xxmaj xxunk xxunk . xxmaj bey and the mummy xxmaj kharis find a nice xxunk in a cemetery where the xxmaj high xxmaj priest of xxmaj xxunk can work as a caretaker in disguise . xxmaj every xxmaj full xxmaj moon , xxmaj bey will feed xxmaj kharis a form of liquid xxunk of several xxmaj xxunk leaves which will keep him not only alive but xxunk to his master 's wishes . xxmaj bey xxunk xxmaj kharis to kill xxmaj stephen and his sister xxunk xxmaj gordon ) , while also xxunk time for xxmaj babe to return so that he will become victim # 3 . xxmaj dr. xxmaj john xxunk xxmaj xxunk to we d xxunk xxmaj knox ) , but does n't know that xxmaj bey secretly xxunk his xxunk making plans to kidnap her with xxmaj kharis ' help . xxmaj john 's life is in danger because of his father .. he 's also the last remaining member of the xxmaj banning line . xxmaj if xxmaj bey has xxmaj isobel , there 's no chance of any more xxmaj bannings being born . xxmaj the police must find xxmaj kharis and the one responsible for his carnage .. xxmaj bey . \n",
              " \n",
              "  xxmaj this film is a xxunk from xxup hand set years later as members of that film , xxmaj xxunk , xxmaj ford & xxmaj xxunk all appear in \" aging \" make - up providing wrinkles showing the gaps in time as xxmaj andoheb has been preparing for the deaths of the xxmaj bannings . xxmaj the cornball romance of xxmaj john and xxmaj isobel seems merely in this plot so that xxmaj bey will screw up xxunk his perfect plan which was being carried out successfully before he xxunk it up . xxmaj and , xxmaj bey merely sees her xxunk with xxmaj john on the grass .. the whole \" love - at - first - sight \" rubbish really did n't wash for me . xxmaj plus you have the mummy being able to kill people with one arm .. is any mummy really xxup that powerful ? xxmaj this film also uses a xxunk of footage from the previous film to save budget on this sequel to it . xxmaj there really is n't that much story here and yes , typical of xxmaj universal monster pictures , even in xxmaj america a mob of people will light .. ho hum .. xxunk going after xxmaj kharis . xxmaj you know how it 'll end .. xxmaj john and the super - powerful xxmaj kharis will xxunk off in some huge mansion with fire burning all around them with the evil one being xxunk in flame .\n",
              "y: CategoryList\n",
              "positive,negative,positive,negative,negative\n",
              "Path: /root/.fastai/data/imdb_sample"
            ]
          },
          "metadata": {
            "tags": []
          },
          "execution_count": 33
        }
      ]
    },
    {
      "cell_type": "code",
      "metadata": {
        "id": "9NNF4zVJJDvD",
        "colab_type": "code",
        "colab": {
          "base_uri": "https://localhost:8080/",
          "height": 34
        },
        "outputId": "ec350ce4-de2d-4011-d510-590d4e904642"
      },
      "source": [
        "data.train_ds[0][0].data[:10]"
      ],
      "execution_count": null,
      "outputs": [
        {
          "output_type": "execute_result",
          "data": {
            "text/plain": [
              "array([   2,   69,   28,   11,   69,  301,   11,   69, 1146,   12])"
            ]
          },
          "metadata": {
            "tags": []
          },
          "execution_count": 38
        }
      ]
    },
    {
      "cell_type": "markdown",
      "metadata": {
        "id": "z99pRP7QK9oP",
        "colab_type": "text"
      },
      "source": [
        "Data Block API"
      ]
    },
    {
      "cell_type": "code",
      "metadata": {
        "id": "CFhm9SvqK_JO",
        "colab_type": "code",
        "colab": {
          "base_uri": "https://localhost:8080/",
          "height": 16
        },
        "outputId": "cdee1c11-bba8-49dc-aa20-e6a09da854c1"
      },
      "source": [
        "data = (TextList.from_csv(path, 'texts.csv', cols='text')\n",
        "                .split_from_df(col=2)\n",
        "                .label_from_df(cols=0)\n",
        "                .databunch())"
      ],
      "execution_count": null,
      "outputs": [
        {
          "output_type": "display_data",
          "data": {
            "text/html": [
              ""
            ],
            "text/plain": [
              "<IPython.core.display.HTML object>"
            ]
          },
          "metadata": {
            "tags": []
          }
        },
        {
          "output_type": "display_data",
          "data": {
            "text/html": [
              ""
            ],
            "text/plain": [
              "<IPython.core.display.HTML object>"
            ]
          },
          "metadata": {
            "tags": []
          }
        }
      ]
    },
    {
      "cell_type": "markdown",
      "metadata": {
        "id": "w8y7KMUnLb_h",
        "colab_type": "text"
      },
      "source": [
        "Now let's grab the full data set for what follows!\n",
        "Now let's grab the whole data set which has:\n",
        "25,000 reviews in training\n",
        "25,000 interviews in validation\n",
        "50,000 unsupervised movie reviews (50,000 movie reviews that haven't been scored at all)"
      ]
    },
    {
      "cell_type": "code",
      "metadata": {
        "id": "PaxEhUTBLQ3Q",
        "colab_type": "code",
        "colab": {
          "base_uri": "https://localhost:8080/",
          "height": 158
        },
        "outputId": "5a7c1166-1723-4bf0-f675-3abcb50d93da"
      },
      "source": [
        "path = untar_data(URLs.IMDB)\n",
        "path.ls()"
      ],
      "execution_count": null,
      "outputs": [
        {
          "output_type": "stream",
          "text": [
            "Downloading https://s3.amazonaws.com/fast-ai-nlp/imdb.tgz\n"
          ],
          "name": "stdout"
        },
        {
          "output_type": "display_data",
          "data": {
            "text/html": [
              ""
            ],
            "text/plain": [
              "<IPython.core.display.HTML object>"
            ]
          },
          "metadata": {
            "tags": []
          }
        },
        {
          "output_type": "execute_result",
          "data": {
            "text/plain": [
              "[PosixPath('/root/.fastai/data/imdb/imdb.vocab'),\n",
              " PosixPath('/root/.fastai/data/imdb/unsup'),\n",
              " PosixPath('/root/.fastai/data/imdb/test'),\n",
              " PosixPath('/root/.fastai/data/imdb/tmp_clas'),\n",
              " PosixPath('/root/.fastai/data/imdb/train'),\n",
              " PosixPath('/root/.fastai/data/imdb/tmp_lm'),\n",
              " PosixPath('/root/.fastai/data/imdb/README')]"
            ]
          },
          "metadata": {
            "tags": []
          },
          "execution_count": 40
        }
      ]
    },
    {
      "cell_type": "code",
      "metadata": {
        "id": "2nJAEVahLsa2",
        "colab_type": "code",
        "colab": {
          "base_uri": "https://localhost:8080/",
          "height": 87
        },
        "outputId": "42969d8d-698a-4dff-e876-3db7eb0ebe7e"
      },
      "source": [
        "(path/'train').ls()"
      ],
      "execution_count": null,
      "outputs": [
        {
          "output_type": "execute_result",
          "data": {
            "text/plain": [
              "[PosixPath('/root/.fastai/data/imdb/train/pos'),\n",
              " PosixPath('/root/.fastai/data/imdb/train/neg'),\n",
              " PosixPath('/root/.fastai/data/imdb/train/unsupBow.feat'),\n",
              " PosixPath('/root/.fastai/data/imdb/train/labeledBow.feat')]"
            ]
          },
          "metadata": {
            "tags": []
          },
          "execution_count": 41
        }
      ]
    },
    {
      "cell_type": "markdown",
      "metadata": {
        "id": "wvDwVQqtMTWX",
        "colab_type": "text"
      },
      "source": [
        "Language Model : We are going to use pretrained and we  gonna start fine-tuning our IMDB language model.\n"
      ]
    },
    {
      "cell_type": "code",
      "metadata": {
        "id": "9b0VNJ6lMI72",
        "colab_type": "code",
        "colab": {}
      },
      "source": [
        "bs = 48"
      ],
      "execution_count": null,
      "outputs": []
    },
    {
      "cell_type": "code",
      "metadata": {
        "id": "WIx1H328NxAh",
        "colab_type": "code",
        "colab": {
          "base_uri": "https://localhost:8080/",
          "height": 16
        },
        "outputId": "75215ea3-b3b5-4cb9-f891-3375eeee35b4"
      },
      "source": [
        "data_lm = (TextList.from_folder(path)\n",
        "           #Inputs: all the text files in path\n",
        "            .filter_by_folder(include=['train', 'test'])\n",
        "           #We may have other temp folders that contain text files so we only keep what's in train and test\n",
        "            .split_by_rand_pct(0.1)\n",
        "           #We randomly split and keep 10% (10,000 reviews) for validation\n",
        "            .label_for_lm()\n",
        "           #We want to do a language model so we label accordingly\n",
        "            .databunch(bs=bs))\n"
      ],
      "execution_count": null,
      "outputs": [
        {
          "output_type": "display_data",
          "data": {
            "text/html": [
              ""
            ],
            "text/plain": [
              "<IPython.core.display.HTML object>"
            ]
          },
          "metadata": {
            "tags": []
          }
        },
        {
          "output_type": "display_data",
          "data": {
            "text/html": [
              ""
            ],
            "text/plain": [
              "<IPython.core.display.HTML object>"
            ]
          },
          "metadata": {
            "tags": []
          }
        }
      ]
    },
    {
      "cell_type": "code",
      "metadata": {
        "id": "44UiLF5VPdKI",
        "colab_type": "code",
        "colab": {}
      },
      "source": [
        "data_lm.save('data_ready')"
      ],
      "execution_count": null,
      "outputs": []
    },
    {
      "cell_type": "code",
      "metadata": {
        "id": "6ygnkA3ON1dZ",
        "colab_type": "code",
        "colab": {
          "base_uri": "https://localhost:8080/",
          "height": 281
        },
        "outputId": "e91e5b39-1b1a-4fdb-e893-360565294e88"
      },
      "source": [
        "data_lm.show_batch()"
      ],
      "execution_count": null,
      "outputs": [
        {
          "output_type": "display_data",
          "data": {
            "text/html": [
              "<table border=\"1\" class=\"dataframe\">\n",
              "  <thead>\n",
              "    <tr style=\"text-align: right;\">\n",
              "      <th>idx</th>\n",
              "      <th>text</th>\n",
              "    </tr>\n",
              "  </thead>\n",
              "  <tbody>\n",
              "    <tr>\n",
              "      <td>0</td>\n",
              "      <td>xxup below , but the one scene that made an extremely deep impression on me was xxmaj sterling xxmaj holloway 's death scene , which several other commenters have mentioned here . i have n't gotten to that scene yet on this viewing , but i can vouch for what other comments have said : once you see xxmaj sterling xxmaj holloway 's death scene in this movie , you</td>\n",
              "    </tr>\n",
              "    <tr>\n",
              "      <td>1</td>\n",
              "      <td>cast . xxmaj it will touch the deepest reaches of your emotions , for those who belief that a love that risks nothing , is worth nothing . xxmaj the film starts with introducing us to the characters that on the surface seem to have everything , later we find that beneath the surfaces of each character they are looking for a journey of self discovery . xxmaj we learn</td>\n",
              "    </tr>\n",
              "    <tr>\n",
              "      <td>2</td>\n",
              "      <td>recall , it was quite humorous . xxmaj would love to find it on tape . xxbos i 'm a fan of xxmaj zhang xxmaj yimou and finally found this xxup dvd title from the shelves of a xxmaj xxunk bookstore after a long search at many places . \\n \\n  xxmaj this is a huge departure from previous xxmaj zhang xxmaj yimou work , esp in terms of</td>\n",
              "    </tr>\n",
              "    <tr>\n",
              "      <td>3</td>\n",
              "      <td>i 'll take a whole weekend and watch all the installments back to back - and am sad when the last episode rolls to an end , because i find myself wanting to continue watching the story of the lives of these characters . \\n \\n  i can not recommend this mini - series more highly . xxbos i saw this movie yesterday and ca n't stop thinking about</td>\n",
              "    </tr>\n",
              "    <tr>\n",
              "      <td>4</td>\n",
              "      <td>. xxmaj if the good guys and bad guys are too obviously pronounced for a serious film , and yes xxmaj sam xxmaj waterston 's mustachioed , fur - clad villain is comic - opera ( and not in the multi - leveled manner of xxmaj bill xxmaj the xxmaj butcher from ' xxmaj gangs of xxmaj new xxmaj york ' ) , and yes , the townsfolk do seem</td>\n",
              "    </tr>\n",
              "  </tbody>\n",
              "</table>"
            ],
            "text/plain": [
              "<IPython.core.display.HTML object>"
            ]
          },
          "metadata": {
            "tags": []
          }
        }
      ]
    },
    {
      "cell_type": "code",
      "metadata": {
        "id": "Q8QKCsVvPXI_",
        "colab_type": "code",
        "colab": {
          "base_uri": "https://localhost:8080/",
          "height": 428
        },
        "outputId": "de54ae85-c49a-4377-a4b4-cde5d0e4b192"
      },
      "source": [
        "learn = learn = language_model_learner(data_lm, AWD_LSTM, drop_mult=0.5)\n",
        "learn.lr_find()"
      ],
      "execution_count": null,
      "outputs": [
        {
          "output_type": "display_data",
          "data": {
            "text/html": [
              "\n",
              "    <div>\n",
              "        <style>\n",
              "            /* Turns off some styling */\n",
              "            progress {\n",
              "                /* gets rid of default border in Firefox and Opera. */\n",
              "                border: none;\n",
              "                /* Needs to be in here for Safari polyfill so background images work as expected. */\n",
              "                background-size: auto;\n",
              "            }\n",
              "            .progress-bar-interrupted, .progress-bar-interrupted::-webkit-progress-bar {\n",
              "                background: #F44336;\n",
              "            }\n",
              "        </style>\n",
              "      <progress value='0' class='' max='1' style='width:300px; height:20px; vertical-align: middle;'></progress>\n",
              "      0.00% [0/1 00:00<00:00]\n",
              "    </div>\n",
              "    \n",
              "<table border=\"1\" class=\"dataframe\">\n",
              "  <thead>\n",
              "    <tr style=\"text-align: left;\">\n",
              "      <th>epoch</th>\n",
              "      <th>train_loss</th>\n",
              "      <th>valid_loss</th>\n",
              "      <th>accuracy</th>\n",
              "      <th>time</th>\n",
              "    </tr>\n",
              "  </thead>\n",
              "  <tbody>\n",
              "  </tbody>\n",
              "</table><p>\n",
              "\n",
              "    <div>\n",
              "        <style>\n",
              "            /* Turns off some styling */\n",
              "            progress {\n",
              "                /* gets rid of default border in Firefox and Opera. */\n",
              "                border: none;\n",
              "                /* Needs to be in here for Safari polyfill so background images work as expected. */\n",
              "                background-size: auto;\n",
              "            }\n",
              "            .progress-bar-interrupted, .progress-bar-interrupted::-webkit-progress-bar {\n",
              "                background: #F44336;\n",
              "            }\n",
              "        </style>\n",
              "      <progress value='22' class='' max='3990' style='width:300px; height:20px; vertical-align: middle;'></progress>\n",
              "      0.55% [22/3990 04:50<14:32:40 4.7615]\n",
              "    </div>\n",
              "    "
            ],
            "text/plain": [
              "<IPython.core.display.HTML object>"
            ]
          },
          "metadata": {
            "tags": []
          }
        },
        {
          "output_type": "stream",
          "text": [
            "LR Finder is complete, type {learner_name}.recorder.plot() to see the graph.\n"
          ],
          "name": "stdout"
        },
        {
          "output_type": "error",
          "ename": "KeyboardInterrupt",
          "evalue": "ignored",
          "traceback": [
            "\u001b[0;31m---------------------------------------------------------------------------\u001b[0m",
            "\u001b[0;31mKeyboardInterrupt\u001b[0m                         Traceback (most recent call last)",
            "\u001b[0;32m<ipython-input-55-fb83b3e31ca5>\u001b[0m in \u001b[0;36m<module>\u001b[0;34m()\u001b[0m\n\u001b[1;32m      1\u001b[0m \u001b[0mlearn\u001b[0m \u001b[0;34m=\u001b[0m \u001b[0mlearn\u001b[0m \u001b[0;34m=\u001b[0m \u001b[0mlanguage_model_learner\u001b[0m\u001b[0;34m(\u001b[0m\u001b[0mdata_lm\u001b[0m\u001b[0;34m,\u001b[0m \u001b[0mAWD_LSTM\u001b[0m\u001b[0;34m,\u001b[0m \u001b[0mdrop_mult\u001b[0m\u001b[0;34m=\u001b[0m\u001b[0;36m0.5\u001b[0m\u001b[0;34m)\u001b[0m\u001b[0;34m\u001b[0m\u001b[0;34m\u001b[0m\u001b[0m\n\u001b[0;32m----> 2\u001b[0;31m \u001b[0mlearn\u001b[0m\u001b[0;34m.\u001b[0m\u001b[0mlr_find\u001b[0m\u001b[0;34m(\u001b[0m\u001b[0;34m)\u001b[0m\u001b[0;34m\u001b[0m\u001b[0;34m\u001b[0m\u001b[0m\n\u001b[0m",
            "\u001b[0;32m/usr/local/lib/python3.6/dist-packages/fastai/train.py\u001b[0m in \u001b[0;36mlr_find\u001b[0;34m(learn, start_lr, end_lr, num_it, stop_div, wd)\u001b[0m\n\u001b[1;32m     39\u001b[0m     \u001b[0mcb\u001b[0m \u001b[0;34m=\u001b[0m \u001b[0mLRFinder\u001b[0m\u001b[0;34m(\u001b[0m\u001b[0mlearn\u001b[0m\u001b[0;34m,\u001b[0m \u001b[0mstart_lr\u001b[0m\u001b[0;34m,\u001b[0m \u001b[0mend_lr\u001b[0m\u001b[0;34m,\u001b[0m \u001b[0mnum_it\u001b[0m\u001b[0;34m,\u001b[0m \u001b[0mstop_div\u001b[0m\u001b[0;34m)\u001b[0m\u001b[0;34m\u001b[0m\u001b[0;34m\u001b[0m\u001b[0m\n\u001b[1;32m     40\u001b[0m     \u001b[0mepochs\u001b[0m \u001b[0;34m=\u001b[0m \u001b[0mint\u001b[0m\u001b[0;34m(\u001b[0m\u001b[0mnp\u001b[0m\u001b[0;34m.\u001b[0m\u001b[0mceil\u001b[0m\u001b[0;34m(\u001b[0m\u001b[0mnum_it\u001b[0m\u001b[0;34m/\u001b[0m\u001b[0mlen\u001b[0m\u001b[0;34m(\u001b[0m\u001b[0mlearn\u001b[0m\u001b[0;34m.\u001b[0m\u001b[0mdata\u001b[0m\u001b[0;34m.\u001b[0m\u001b[0mtrain_dl\u001b[0m\u001b[0;34m)\u001b[0m\u001b[0;34m)\u001b[0m\u001b[0;34m)\u001b[0m \u001b[0;34m*\u001b[0m \u001b[0;34m(\u001b[0m\u001b[0mnum_distrib\u001b[0m\u001b[0;34m(\u001b[0m\u001b[0;34m)\u001b[0m \u001b[0;32mor\u001b[0m \u001b[0;36m1\u001b[0m\u001b[0;34m)\u001b[0m\u001b[0;34m\u001b[0m\u001b[0;34m\u001b[0m\u001b[0m\n\u001b[0;32m---> 41\u001b[0;31m     \u001b[0mlearn\u001b[0m\u001b[0;34m.\u001b[0m\u001b[0mfit\u001b[0m\u001b[0;34m(\u001b[0m\u001b[0mepochs\u001b[0m\u001b[0;34m,\u001b[0m \u001b[0mstart_lr\u001b[0m\u001b[0;34m,\u001b[0m \u001b[0mcallbacks\u001b[0m\u001b[0;34m=\u001b[0m\u001b[0;34m[\u001b[0m\u001b[0mcb\u001b[0m\u001b[0;34m]\u001b[0m\u001b[0;34m,\u001b[0m \u001b[0mwd\u001b[0m\u001b[0;34m=\u001b[0m\u001b[0mwd\u001b[0m\u001b[0;34m)\u001b[0m\u001b[0;34m\u001b[0m\u001b[0;34m\u001b[0m\u001b[0m\n\u001b[0m\u001b[1;32m     42\u001b[0m \u001b[0;34m\u001b[0m\u001b[0m\n\u001b[1;32m     43\u001b[0m def to_fp16(learn:Learner, loss_scale:float=None, max_noskip:int=1000, dynamic:bool=True, clip:float=None,\n",
            "\u001b[0;32m/usr/local/lib/python3.6/dist-packages/fastai/basic_train.py\u001b[0m in \u001b[0;36mfit\u001b[0;34m(self, epochs, lr, wd, callbacks)\u001b[0m\n\u001b[1;32m    198\u001b[0m         \u001b[0;32melse\u001b[0m\u001b[0;34m:\u001b[0m \u001b[0mself\u001b[0m\u001b[0;34m.\u001b[0m\u001b[0mopt\u001b[0m\u001b[0;34m.\u001b[0m\u001b[0mlr\u001b[0m\u001b[0;34m,\u001b[0m\u001b[0mself\u001b[0m\u001b[0;34m.\u001b[0m\u001b[0mopt\u001b[0m\u001b[0;34m.\u001b[0m\u001b[0mwd\u001b[0m \u001b[0;34m=\u001b[0m \u001b[0mlr\u001b[0m\u001b[0;34m,\u001b[0m\u001b[0mwd\u001b[0m\u001b[0;34m\u001b[0m\u001b[0;34m\u001b[0m\u001b[0m\n\u001b[1;32m    199\u001b[0m         \u001b[0mcallbacks\u001b[0m \u001b[0;34m=\u001b[0m \u001b[0;34m[\u001b[0m\u001b[0mcb\u001b[0m\u001b[0;34m(\u001b[0m\u001b[0mself\u001b[0m\u001b[0;34m)\u001b[0m \u001b[0;32mfor\u001b[0m \u001b[0mcb\u001b[0m \u001b[0;32min\u001b[0m \u001b[0mself\u001b[0m\u001b[0;34m.\u001b[0m\u001b[0mcallback_fns\u001b[0m \u001b[0;34m+\u001b[0m \u001b[0mlistify\u001b[0m\u001b[0;34m(\u001b[0m\u001b[0mdefaults\u001b[0m\u001b[0;34m.\u001b[0m\u001b[0mextra_callback_fns\u001b[0m\u001b[0;34m)\u001b[0m\u001b[0;34m]\u001b[0m \u001b[0;34m+\u001b[0m \u001b[0mlistify\u001b[0m\u001b[0;34m(\u001b[0m\u001b[0mcallbacks\u001b[0m\u001b[0;34m)\u001b[0m\u001b[0;34m\u001b[0m\u001b[0;34m\u001b[0m\u001b[0m\n\u001b[0;32m--> 200\u001b[0;31m         \u001b[0mfit\u001b[0m\u001b[0;34m(\u001b[0m\u001b[0mepochs\u001b[0m\u001b[0;34m,\u001b[0m \u001b[0mself\u001b[0m\u001b[0;34m,\u001b[0m \u001b[0mmetrics\u001b[0m\u001b[0;34m=\u001b[0m\u001b[0mself\u001b[0m\u001b[0;34m.\u001b[0m\u001b[0mmetrics\u001b[0m\u001b[0;34m,\u001b[0m \u001b[0mcallbacks\u001b[0m\u001b[0;34m=\u001b[0m\u001b[0mself\u001b[0m\u001b[0;34m.\u001b[0m\u001b[0mcallbacks\u001b[0m\u001b[0;34m+\u001b[0m\u001b[0mcallbacks\u001b[0m\u001b[0;34m)\u001b[0m\u001b[0;34m\u001b[0m\u001b[0;34m\u001b[0m\u001b[0m\n\u001b[0m\u001b[1;32m    201\u001b[0m \u001b[0;34m\u001b[0m\u001b[0m\n\u001b[1;32m    202\u001b[0m     \u001b[0;32mdef\u001b[0m \u001b[0mcreate_opt\u001b[0m\u001b[0;34m(\u001b[0m\u001b[0mself\u001b[0m\u001b[0;34m,\u001b[0m \u001b[0mlr\u001b[0m\u001b[0;34m:\u001b[0m\u001b[0mFloats\u001b[0m\u001b[0;34m,\u001b[0m \u001b[0mwd\u001b[0m\u001b[0;34m:\u001b[0m\u001b[0mFloats\u001b[0m\u001b[0;34m=\u001b[0m\u001b[0;36m0.\u001b[0m\u001b[0;34m)\u001b[0m\u001b[0;34m->\u001b[0m\u001b[0;32mNone\u001b[0m\u001b[0;34m:\u001b[0m\u001b[0;34m\u001b[0m\u001b[0;34m\u001b[0m\u001b[0m\n",
            "\u001b[0;32m/usr/local/lib/python3.6/dist-packages/fastai/basic_train.py\u001b[0m in \u001b[0;36mfit\u001b[0;34m(epochs, learn, callbacks, metrics)\u001b[0m\n\u001b[1;32m     99\u001b[0m             \u001b[0;32mfor\u001b[0m \u001b[0mxb\u001b[0m\u001b[0;34m,\u001b[0m\u001b[0myb\u001b[0m \u001b[0;32min\u001b[0m \u001b[0mprogress_bar\u001b[0m\u001b[0;34m(\u001b[0m\u001b[0mlearn\u001b[0m\u001b[0;34m.\u001b[0m\u001b[0mdata\u001b[0m\u001b[0;34m.\u001b[0m\u001b[0mtrain_dl\u001b[0m\u001b[0;34m,\u001b[0m \u001b[0mparent\u001b[0m\u001b[0;34m=\u001b[0m\u001b[0mpbar\u001b[0m\u001b[0;34m)\u001b[0m\u001b[0;34m:\u001b[0m\u001b[0;34m\u001b[0m\u001b[0;34m\u001b[0m\u001b[0m\n\u001b[1;32m    100\u001b[0m                 \u001b[0mxb\u001b[0m\u001b[0;34m,\u001b[0m \u001b[0myb\u001b[0m \u001b[0;34m=\u001b[0m \u001b[0mcb_handler\u001b[0m\u001b[0;34m.\u001b[0m\u001b[0mon_batch_begin\u001b[0m\u001b[0;34m(\u001b[0m\u001b[0mxb\u001b[0m\u001b[0;34m,\u001b[0m \u001b[0myb\u001b[0m\u001b[0;34m)\u001b[0m\u001b[0;34m\u001b[0m\u001b[0;34m\u001b[0m\u001b[0m\n\u001b[0;32m--> 101\u001b[0;31m                 \u001b[0mloss\u001b[0m \u001b[0;34m=\u001b[0m \u001b[0mloss_batch\u001b[0m\u001b[0;34m(\u001b[0m\u001b[0mlearn\u001b[0m\u001b[0;34m.\u001b[0m\u001b[0mmodel\u001b[0m\u001b[0;34m,\u001b[0m \u001b[0mxb\u001b[0m\u001b[0;34m,\u001b[0m \u001b[0myb\u001b[0m\u001b[0;34m,\u001b[0m \u001b[0mlearn\u001b[0m\u001b[0;34m.\u001b[0m\u001b[0mloss_func\u001b[0m\u001b[0;34m,\u001b[0m \u001b[0mlearn\u001b[0m\u001b[0;34m.\u001b[0m\u001b[0mopt\u001b[0m\u001b[0;34m,\u001b[0m \u001b[0mcb_handler\u001b[0m\u001b[0;34m)\u001b[0m\u001b[0;34m\u001b[0m\u001b[0;34m\u001b[0m\u001b[0m\n\u001b[0m\u001b[1;32m    102\u001b[0m                 \u001b[0;32mif\u001b[0m \u001b[0mcb_handler\u001b[0m\u001b[0;34m.\u001b[0m\u001b[0mon_batch_end\u001b[0m\u001b[0;34m(\u001b[0m\u001b[0mloss\u001b[0m\u001b[0;34m)\u001b[0m\u001b[0;34m:\u001b[0m \u001b[0;32mbreak\u001b[0m\u001b[0;34m\u001b[0m\u001b[0;34m\u001b[0m\u001b[0m\n\u001b[1;32m    103\u001b[0m \u001b[0;34m\u001b[0m\u001b[0m\n",
            "\u001b[0;32m/usr/local/lib/python3.6/dist-packages/fastai/basic_train.py\u001b[0m in \u001b[0;36mloss_batch\u001b[0;34m(model, xb, yb, loss_func, opt, cb_handler)\u001b[0m\n\u001b[1;32m     32\u001b[0m     \u001b[0;32mif\u001b[0m \u001b[0mopt\u001b[0m \u001b[0;32mis\u001b[0m \u001b[0;32mnot\u001b[0m \u001b[0;32mNone\u001b[0m\u001b[0;34m:\u001b[0m\u001b[0;34m\u001b[0m\u001b[0;34m\u001b[0m\u001b[0m\n\u001b[1;32m     33\u001b[0m         \u001b[0mloss\u001b[0m\u001b[0;34m,\u001b[0m\u001b[0mskip_bwd\u001b[0m \u001b[0;34m=\u001b[0m \u001b[0mcb_handler\u001b[0m\u001b[0;34m.\u001b[0m\u001b[0mon_backward_begin\u001b[0m\u001b[0;34m(\u001b[0m\u001b[0mloss\u001b[0m\u001b[0;34m)\u001b[0m\u001b[0;34m\u001b[0m\u001b[0;34m\u001b[0m\u001b[0m\n\u001b[0;32m---> 34\u001b[0;31m         \u001b[0;32mif\u001b[0m \u001b[0;32mnot\u001b[0m \u001b[0mskip_bwd\u001b[0m\u001b[0;34m:\u001b[0m                     \u001b[0mloss\u001b[0m\u001b[0;34m.\u001b[0m\u001b[0mbackward\u001b[0m\u001b[0;34m(\u001b[0m\u001b[0;34m)\u001b[0m\u001b[0;34m\u001b[0m\u001b[0;34m\u001b[0m\u001b[0m\n\u001b[0m\u001b[1;32m     35\u001b[0m         \u001b[0;32mif\u001b[0m \u001b[0;32mnot\u001b[0m \u001b[0mcb_handler\u001b[0m\u001b[0;34m.\u001b[0m\u001b[0mon_backward_end\u001b[0m\u001b[0;34m(\u001b[0m\u001b[0;34m)\u001b[0m\u001b[0;34m:\u001b[0m \u001b[0mopt\u001b[0m\u001b[0;34m.\u001b[0m\u001b[0mstep\u001b[0m\u001b[0;34m(\u001b[0m\u001b[0;34m)\u001b[0m\u001b[0;34m\u001b[0m\u001b[0;34m\u001b[0m\u001b[0m\n\u001b[1;32m     36\u001b[0m         \u001b[0;32mif\u001b[0m \u001b[0;32mnot\u001b[0m \u001b[0mcb_handler\u001b[0m\u001b[0;34m.\u001b[0m\u001b[0mon_step_end\u001b[0m\u001b[0;34m(\u001b[0m\u001b[0;34m)\u001b[0m\u001b[0;34m:\u001b[0m     \u001b[0mopt\u001b[0m\u001b[0;34m.\u001b[0m\u001b[0mzero_grad\u001b[0m\u001b[0;34m(\u001b[0m\u001b[0;34m)\u001b[0m\u001b[0;34m\u001b[0m\u001b[0;34m\u001b[0m\u001b[0m\n",
            "\u001b[0;32m/usr/local/lib/python3.6/dist-packages/torch/tensor.py\u001b[0m in \u001b[0;36mbackward\u001b[0;34m(self, gradient, retain_graph, create_graph)\u001b[0m\n\u001b[1;32m    183\u001b[0m                 \u001b[0mproducts\u001b[0m\u001b[0;34m.\u001b[0m \u001b[0mDefaults\u001b[0m \u001b[0mto\u001b[0m\u001b[0;31m \u001b[0m\u001b[0;31m`\u001b[0m\u001b[0;31m`\u001b[0m\u001b[0;32mFalse\u001b[0m\u001b[0;31m`\u001b[0m\u001b[0;31m`\u001b[0m\u001b[0;34m.\u001b[0m\u001b[0;34m\u001b[0m\u001b[0;34m\u001b[0m\u001b[0m\n\u001b[1;32m    184\u001b[0m         \"\"\"\n\u001b[0;32m--> 185\u001b[0;31m         \u001b[0mtorch\u001b[0m\u001b[0;34m.\u001b[0m\u001b[0mautograd\u001b[0m\u001b[0;34m.\u001b[0m\u001b[0mbackward\u001b[0m\u001b[0;34m(\u001b[0m\u001b[0mself\u001b[0m\u001b[0;34m,\u001b[0m \u001b[0mgradient\u001b[0m\u001b[0;34m,\u001b[0m \u001b[0mretain_graph\u001b[0m\u001b[0;34m,\u001b[0m \u001b[0mcreate_graph\u001b[0m\u001b[0;34m)\u001b[0m\u001b[0;34m\u001b[0m\u001b[0;34m\u001b[0m\u001b[0m\n\u001b[0m\u001b[1;32m    186\u001b[0m \u001b[0;34m\u001b[0m\u001b[0m\n\u001b[1;32m    187\u001b[0m     \u001b[0;32mdef\u001b[0m \u001b[0mregister_hook\u001b[0m\u001b[0;34m(\u001b[0m\u001b[0mself\u001b[0m\u001b[0;34m,\u001b[0m \u001b[0mhook\u001b[0m\u001b[0;34m)\u001b[0m\u001b[0;34m:\u001b[0m\u001b[0;34m\u001b[0m\u001b[0;34m\u001b[0m\u001b[0m\n",
            "\u001b[0;32m/usr/local/lib/python3.6/dist-packages/torch/autograd/__init__.py\u001b[0m in \u001b[0;36mbackward\u001b[0;34m(tensors, grad_tensors, retain_graph, create_graph, grad_variables)\u001b[0m\n\u001b[1;32m    125\u001b[0m     Variable._execution_engine.run_backward(\n\u001b[1;32m    126\u001b[0m         \u001b[0mtensors\u001b[0m\u001b[0;34m,\u001b[0m \u001b[0mgrad_tensors\u001b[0m\u001b[0;34m,\u001b[0m \u001b[0mretain_graph\u001b[0m\u001b[0;34m,\u001b[0m \u001b[0mcreate_graph\u001b[0m\u001b[0;34m,\u001b[0m\u001b[0;34m\u001b[0m\u001b[0;34m\u001b[0m\u001b[0m\n\u001b[0;32m--> 127\u001b[0;31m         allow_unreachable=True)  # allow_unreachable flag\n\u001b[0m\u001b[1;32m    128\u001b[0m \u001b[0;34m\u001b[0m\u001b[0m\n\u001b[1;32m    129\u001b[0m \u001b[0;34m\u001b[0m\u001b[0m\n",
            "\u001b[0;31mKeyboardInterrupt\u001b[0m: "
          ]
        }
      ]
    },
    {
      "cell_type": "code",
      "metadata": {
        "id": "UED1upoPn-F7",
        "colab_type": "code",
        "colab": {}
      },
      "source": [
        "learn.recorder.plot(skip_end =15)"
      ],
      "execution_count": null,
      "outputs": []
    },
    {
      "cell_type": "code",
      "metadata": {
        "id": "t4dhLuGEm58u",
        "colab_type": "code",
        "colab": {}
      },
      "source": [
        "learn.fit_one_cycle(1,1e-2,moms =(0.8,0.7))"
      ],
      "execution_count": null,
      "outputs": []
    },
    {
      "cell_type": "code",
      "metadata": {
        "id": "3xW8dPotnLdF",
        "colab_type": "code",
        "colab": {}
      },
      "source": [
        "learn.save(\"fit_head\")"
      ],
      "execution_count": null,
      "outputs": []
    },
    {
      "cell_type": "code",
      "metadata": {
        "id": "TT8pzzxRnSIJ",
        "colab_type": "code",
        "colab": {}
      },
      "source": [
        "learn.load('fit_head')"
      ],
      "execution_count": null,
      "outputs": []
    },
    {
      "cell_type": "code",
      "metadata": {
        "id": "ff8lMQvPnVYS",
        "colab_type": "code",
        "colab": {}
      },
      "source": [
        "learn.unfreeze()\n",
        "learn.fit_one_cycle(10,1e-3,moms = (0.8,0.7))"
      ],
      "execution_count": null,
      "outputs": []
    },
    {
      "cell_type": "code",
      "metadata": {
        "id": "UGTbHvTcQEk1",
        "colab_type": "code",
        "colab": {}
      },
      "source": [
        "learn.save_encoder(\"fine-tuned\")"
      ],
      "execution_count": null,
      "outputs": []
    }
  ]
}